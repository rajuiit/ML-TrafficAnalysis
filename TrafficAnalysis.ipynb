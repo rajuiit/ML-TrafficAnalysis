{
  "nbformat": 4,
  "nbformat_minor": 0,
  "metadata": {
    "colab": {
      "name": "TrafficAnalysis.ipynb",
      "provenance": [],
      "include_colab_link": true
    },
    "kernelspec": {
      "name": "python3",
      "display_name": "Python 3"
    }
  },
  "cells": [
    {
      "cell_type": "markdown",
      "metadata": {
        "id": "view-in-github",
        "colab_type": "text"
      },
      "source": [
        "<a href=\"https://colab.research.google.com/github/rajuiit/ML-TrafficAnalysis/blob/master/TrafficAnalysis.ipynb\" target=\"_parent\"><img src=\"https://colab.research.google.com/assets/colab-badge.svg\" alt=\"Open In Colab\"/></a>"
      ]
    },
    {
      "cell_type": "code",
      "metadata": {
        "id": "Hqf2wcwXP3aW",
        "colab_type": "code",
        "colab": {
          "base_uri": "https://localhost:8080/",
          "height": 122
        },
        "outputId": "4981b399-1598-4cce-b13f-c8c0df1e2cab"
      },
      "source": [
        "import pandas as pd\n",
        "\n",
        "from google.colab import drive\n",
        "drive.mount('/content/gdrive')"
      ],
      "execution_count": null,
      "outputs": [
        {
          "output_type": "stream",
          "text": [
            "Go to this URL in a browser: https://accounts.google.com/o/oauth2/auth?client_id=947318989803-6bn6qk8qdgf4n4g3pfee6491hc0brc4i.apps.googleusercontent.com&redirect_uri=urn%3aietf%3awg%3aoauth%3a2.0%3aoob&response_type=code&scope=email%20https%3a%2f%2fwww.googleapis.com%2fauth%2fdocs.test%20https%3a%2f%2fwww.googleapis.com%2fauth%2fdrive%20https%3a%2f%2fwww.googleapis.com%2fauth%2fdrive.photos.readonly%20https%3a%2f%2fwww.googleapis.com%2fauth%2fpeopleapi.readonly\n",
            "\n",
            "Enter your authorization code:\n",
            "··········\n",
            "Mounted at /content/gdrive\n"
          ],
          "name": "stdout"
        }
      ]
    },
    {
      "cell_type": "code",
      "metadata": {
        "id": "nfeQ3CMWMUOe",
        "colab_type": "code",
        "colab": {}
      },
      "source": [
        "train=pd.read_csv('gdrive/My Drive/Colab Notebooks/Traffic/codes/Adaboost/final_train_data.csv')"
      ],
      "execution_count": null,
      "outputs": []
    },
    {
      "cell_type": "code",
      "metadata": {
        "id": "7WH1_FlqNMvE",
        "colab_type": "code",
        "colab": {
          "base_uri": "https://localhost:8080/",
          "height": 204
        },
        "outputId": "8202974a-71af-4748-c6db-44e7398e9e72"
      },
      "source": [
        "train.head()"
      ],
      "execution_count": null,
      "outputs": [
        {
          "output_type": "execute_result",
          "data": {
            "text/html": [
              "<div>\n",
              "<style scoped>\n",
              "    .dataframe tbody tr th:only-of-type {\n",
              "        vertical-align: middle;\n",
              "    }\n",
              "\n",
              "    .dataframe tbody tr th {\n",
              "        vertical-align: top;\n",
              "    }\n",
              "\n",
              "    .dataframe thead th {\n",
              "        text-align: right;\n",
              "    }\n",
              "</style>\n",
              "<table border=\"1\" class=\"dataframe\">\n",
              "  <thead>\n",
              "    <tr style=\"text-align: right;\">\n",
              "      <th></th>\n",
              "      <th>Date</th>\n",
              "      <th>Time_Slot</th>\n",
              "      <th>Bus_Stopase</th>\n",
              "      <th>Duration_Time</th>\n",
              "      <th>No_of_vechile</th>\n",
              "      <th>Traffic_Condition</th>\n",
              "    </tr>\n",
              "  </thead>\n",
              "  <tbody>\n",
              "    <tr>\n",
              "      <th>0</th>\n",
              "      <td>2020-10-19</td>\n",
              "      <td>1</td>\n",
              "      <td>1</td>\n",
              "      <td>5.0</td>\n",
              "      <td>14.0</td>\n",
              "      <td>NO</td>\n",
              "    </tr>\n",
              "    <tr>\n",
              "      <th>1</th>\n",
              "      <td>2020-10-19</td>\n",
              "      <td>1</td>\n",
              "      <td>2</td>\n",
              "      <td>7.0</td>\n",
              "      <td>24.0</td>\n",
              "      <td>YES</td>\n",
              "    </tr>\n",
              "    <tr>\n",
              "      <th>2</th>\n",
              "      <td>2020-10-19</td>\n",
              "      <td>1</td>\n",
              "      <td>3</td>\n",
              "      <td>4.0</td>\n",
              "      <td>16.0</td>\n",
              "      <td>NO</td>\n",
              "    </tr>\n",
              "    <tr>\n",
              "      <th>3</th>\n",
              "      <td>2020-10-19</td>\n",
              "      <td>1</td>\n",
              "      <td>4</td>\n",
              "      <td>5.0</td>\n",
              "      <td>19.0</td>\n",
              "      <td>NO</td>\n",
              "    </tr>\n",
              "    <tr>\n",
              "      <th>4</th>\n",
              "      <td>2020-10-19</td>\n",
              "      <td>1</td>\n",
              "      <td>5</td>\n",
              "      <td>6.0</td>\n",
              "      <td>17.0</td>\n",
              "      <td>NO</td>\n",
              "    </tr>\n",
              "  </tbody>\n",
              "</table>\n",
              "</div>"
            ],
            "text/plain": [
              "         Date  Time_Slot  ...  No_of_vechile  Traffic_Condition\n",
              "0  2020-10-19          1  ...           14.0                 NO\n",
              "1  2020-10-19          1  ...           24.0                YES\n",
              "2  2020-10-19          1  ...           16.0                 NO\n",
              "3  2020-10-19          1  ...           19.0                 NO\n",
              "4  2020-10-19          1  ...           17.0                 NO\n",
              "\n",
              "[5 rows x 6 columns]"
            ]
          },
          "metadata": {
            "tags": []
          },
          "execution_count": 3
        }
      ]
    },
    {
      "cell_type": "code",
      "metadata": {
        "id": "EzA9pjNyOpAr",
        "colab_type": "code",
        "colab": {
          "base_uri": "https://localhost:8080/",
          "height": 238
        },
        "outputId": "ac9eab19-4b0b-4d14-9ca8-2c8fdba917ec"
      },
      "source": [
        "train.info()"
      ],
      "execution_count": null,
      "outputs": [
        {
          "output_type": "stream",
          "text": [
            "<class 'pandas.core.frame.DataFrame'>\n",
            "RangeIndex: 5831 entries, 0 to 5830\n",
            "Data columns (total 6 columns):\n",
            " #   Column             Non-Null Count  Dtype  \n",
            "---  ------             --------------  -----  \n",
            " 0   Date               5831 non-null   object \n",
            " 1   Time_Slot          5831 non-null   int64  \n",
            " 2   Bus_Stopase        5831 non-null   int64  \n",
            " 3   Duration_Time      5796 non-null   float64\n",
            " 4   No_of_vechile      5796 non-null   float64\n",
            " 5   Traffic_Condition  5796 non-null   object \n",
            "dtypes: float64(2), int64(2), object(2)\n",
            "memory usage: 273.5+ KB\n"
          ],
          "name": "stdout"
        }
      ]
    },
    {
      "cell_type": "code",
      "metadata": {
        "id": "gDXgoQG1CIfw",
        "colab_type": "code",
        "colab": {
          "base_uri": "https://localhost:8080/",
          "height": 136
        },
        "outputId": "037be6ee-a09e-4b44-b0dd-bf7ca28f33a9"
      },
      "source": [
        "train.dtypes"
      ],
      "execution_count": null,
      "outputs": [
        {
          "output_type": "execute_result",
          "data": {
            "text/plain": [
              "Date                  object\n",
              "Time_Slot              int64\n",
              "Bus_Stopase            int64\n",
              "Duration_Time        float64\n",
              "No_of_vechile        float64\n",
              "Traffic_Condition     object\n",
              "dtype: object"
            ]
          },
          "metadata": {
            "tags": []
          },
          "execution_count": 5
        }
      ]
    },
    {
      "cell_type": "code",
      "metadata": {
        "id": "gXsQmgqnHtNF",
        "colab_type": "code",
        "colab": {}
      },
      "source": [
        "train_test_data = [train] "
      ],
      "execution_count": null,
      "outputs": []
    },
    {
      "cell_type": "code",
      "metadata": {
        "id": "L-1oaL4DCkSF",
        "colab_type": "code",
        "colab": {}
      },
      "source": [
        "train_test_data = [train] \n",
        "condition = {\"NO\": 0, \"YES\": 1}\n",
        "for dataset in train_test_data:\n",
        "    dataset['Traffic_Condition'] = dataset['Traffic_Condition'].map(condition)"
      ],
      "execution_count": null,
      "outputs": []
    },
    {
      "cell_type": "code",
      "metadata": {
        "id": "7rnOKnB4C2_R",
        "colab_type": "code",
        "colab": {
          "base_uri": "https://localhost:8080/",
          "height": 136
        },
        "outputId": "98410f6f-d48a-4bf6-90c1-181be20e4b12"
      },
      "source": [
        "train.dtypes"
      ],
      "execution_count": null,
      "outputs": [
        {
          "output_type": "execute_result",
          "data": {
            "text/plain": [
              "Date                  object\n",
              "Time_Slot              int64\n",
              "Bus_Stopase            int64\n",
              "Duration_Time        float64\n",
              "No_of_vechile        float64\n",
              "Traffic_Condition    float64\n",
              "dtype: object"
            ]
          },
          "metadata": {
            "tags": []
          },
          "execution_count": 8
        }
      ]
    },
    {
      "cell_type": "code",
      "metadata": {
        "id": "GWv0PDhiFqeg",
        "colab_type": "code",
        "colab": {}
      },
      "source": [
        "for dataset in train_test_data:\n",
        "    dataset['Duration_Time'] = dataset['Duration_Time'].fillna(25)"
      ],
      "execution_count": null,
      "outputs": []
    },
    {
      "cell_type": "code",
      "metadata": {
        "id": "fZMBgre3Q5Iy",
        "colab_type": "code",
        "colab": {}
      },
      "source": [
        "for dataset in train_test_data:\n",
        "    dataset['No_of_vechile'] = dataset['No_of_vechile'].fillna(9)"
      ],
      "execution_count": null,
      "outputs": []
    },
    {
      "cell_type": "code",
      "metadata": {
        "id": "RMksy6ieR9tq",
        "colab_type": "code",
        "colab": {}
      },
      "source": [
        "for dataset in train_test_data:\n",
        "    dataset['Traffic_Condition'] = dataset['Traffic_Condition'].fillna(1)"
      ],
      "execution_count": null,
      "outputs": []
    },
    {
      "cell_type": "code",
      "metadata": {
        "id": "68GIKIVRTfyq",
        "colab_type": "code",
        "colab": {
          "base_uri": "https://localhost:8080/",
          "height": 238
        },
        "outputId": "c00fe36c-a33c-4eb0-bccc-a722af154980"
      },
      "source": [
        "train.info()"
      ],
      "execution_count": null,
      "outputs": [
        {
          "output_type": "stream",
          "text": [
            "<class 'pandas.core.frame.DataFrame'>\n",
            "RangeIndex: 5831 entries, 0 to 5830\n",
            "Data columns (total 6 columns):\n",
            " #   Column             Non-Null Count  Dtype  \n",
            "---  ------             --------------  -----  \n",
            " 0   Date               5831 non-null   object \n",
            " 1   Time_Slot          5831 non-null   int64  \n",
            " 2   Bus_Stopase        5831 non-null   int64  \n",
            " 3   Duration_Time      5831 non-null   float64\n",
            " 4   No_of_vechile      5831 non-null   float64\n",
            " 5   Traffic_Condition  5831 non-null   float64\n",
            "dtypes: float64(3), int64(2), object(1)\n",
            "memory usage: 273.5+ KB\n"
          ],
          "name": "stdout"
        }
      ]
    },
    {
      "cell_type": "code",
      "metadata": {
        "id": "2UNHiQNrUXzR",
        "colab_type": "code",
        "colab": {}
      },
      "source": [
        "for dataset in train_test_data:\n",
        "    dataset['Time_Slot'] = dataset['Time_Slot'].fillna(1)"
      ],
      "execution_count": null,
      "outputs": []
    },
    {
      "cell_type": "code",
      "metadata": {
        "id": "CsL9zkywjFuV",
        "colab_type": "code",
        "colab": {}
      },
      "source": [
        "for dataset in train_test_data:\n",
        "    dataset['Bus_Stopase'] = dataset['Bus_Stopase'].fillna(10)"
      ],
      "execution_count": null,
      "outputs": []
    },
    {
      "cell_type": "code",
      "metadata": {
        "id": "TcQMYrcujiGd",
        "colab_type": "code",
        "colab": {}
      },
      "source": [
        "for dataset in train_test_data:\n",
        "    dataset['Date'] = dataset['Date'].fillna(\"20:10:19\")"
      ],
      "execution_count": null,
      "outputs": []
    },
    {
      "cell_type": "code",
      "metadata": {
        "id": "WnM-tXsxRPHA",
        "colab_type": "code",
        "colab": {
          "base_uri": "https://localhost:8080/",
          "height": 238
        },
        "outputId": "ec72ec89-2849-4cf5-ec30-091621852460"
      },
      "source": [
        "train.info()\n"
      ],
      "execution_count": null,
      "outputs": [
        {
          "output_type": "stream",
          "text": [
            "<class 'pandas.core.frame.DataFrame'>\n",
            "RangeIndex: 5831 entries, 0 to 5830\n",
            "Data columns (total 6 columns):\n",
            " #   Column             Non-Null Count  Dtype  \n",
            "---  ------             --------------  -----  \n",
            " 0   Date               5831 non-null   object \n",
            " 1   Time_Slot          5831 non-null   int64  \n",
            " 2   Bus_Stopase        5831 non-null   int64  \n",
            " 3   Duration_Time      5831 non-null   float64\n",
            " 4   No_of_vechile      5831 non-null   float64\n",
            " 5   Traffic_Condition  5831 non-null   float64\n",
            "dtypes: float64(3), int64(2), object(1)\n",
            "memory usage: 273.5+ KB\n"
          ],
          "name": "stdout"
        }
      ]
    },
    {
      "cell_type": "code",
      "metadata": {
        "id": "kfleRUPERZ8B",
        "colab_type": "code",
        "colab": {
          "base_uri": "https://localhost:8080/",
          "height": 204
        },
        "outputId": "952d5a20-2ece-4991-f9ce-0ceaaa6f5bd3"
      },
      "source": [
        "train.head()"
      ],
      "execution_count": null,
      "outputs": [
        {
          "output_type": "execute_result",
          "data": {
            "text/html": [
              "<div>\n",
              "<style scoped>\n",
              "    .dataframe tbody tr th:only-of-type {\n",
              "        vertical-align: middle;\n",
              "    }\n",
              "\n",
              "    .dataframe tbody tr th {\n",
              "        vertical-align: top;\n",
              "    }\n",
              "\n",
              "    .dataframe thead th {\n",
              "        text-align: right;\n",
              "    }\n",
              "</style>\n",
              "<table border=\"1\" class=\"dataframe\">\n",
              "  <thead>\n",
              "    <tr style=\"text-align: right;\">\n",
              "      <th></th>\n",
              "      <th>Date</th>\n",
              "      <th>Time_Slot</th>\n",
              "      <th>Bus_Stopase</th>\n",
              "      <th>Duration_Time</th>\n",
              "      <th>No_of_vechile</th>\n",
              "      <th>Traffic_Condition</th>\n",
              "    </tr>\n",
              "  </thead>\n",
              "  <tbody>\n",
              "    <tr>\n",
              "      <th>0</th>\n",
              "      <td>2020-10-19</td>\n",
              "      <td>1</td>\n",
              "      <td>1</td>\n",
              "      <td>5.0</td>\n",
              "      <td>14.0</td>\n",
              "      <td>0.0</td>\n",
              "    </tr>\n",
              "    <tr>\n",
              "      <th>1</th>\n",
              "      <td>2020-10-19</td>\n",
              "      <td>1</td>\n",
              "      <td>2</td>\n",
              "      <td>7.0</td>\n",
              "      <td>24.0</td>\n",
              "      <td>1.0</td>\n",
              "    </tr>\n",
              "    <tr>\n",
              "      <th>2</th>\n",
              "      <td>2020-10-19</td>\n",
              "      <td>1</td>\n",
              "      <td>3</td>\n",
              "      <td>4.0</td>\n",
              "      <td>16.0</td>\n",
              "      <td>0.0</td>\n",
              "    </tr>\n",
              "    <tr>\n",
              "      <th>3</th>\n",
              "      <td>2020-10-19</td>\n",
              "      <td>1</td>\n",
              "      <td>4</td>\n",
              "      <td>5.0</td>\n",
              "      <td>19.0</td>\n",
              "      <td>0.0</td>\n",
              "    </tr>\n",
              "    <tr>\n",
              "      <th>4</th>\n",
              "      <td>2020-10-19</td>\n",
              "      <td>1</td>\n",
              "      <td>5</td>\n",
              "      <td>6.0</td>\n",
              "      <td>17.0</td>\n",
              "      <td>0.0</td>\n",
              "    </tr>\n",
              "  </tbody>\n",
              "</table>\n",
              "</div>"
            ],
            "text/plain": [
              "         Date  Time_Slot  ...  No_of_vechile  Traffic_Condition\n",
              "0  2020-10-19          1  ...           14.0                0.0\n",
              "1  2020-10-19          1  ...           24.0                1.0\n",
              "2  2020-10-19          1  ...           16.0                0.0\n",
              "3  2020-10-19          1  ...           19.0                0.0\n",
              "4  2020-10-19          1  ...           17.0                0.0\n",
              "\n",
              "[5 rows x 6 columns]"
            ]
          },
          "metadata": {
            "tags": []
          },
          "execution_count": 17
        }
      ]
    },
    {
      "cell_type": "code",
      "metadata": {
        "id": "crS1GDXmVPgU",
        "colab_type": "code",
        "colab": {
          "base_uri": "https://localhost:8080/",
          "height": 136
        },
        "outputId": "227ed08e-beeb-42de-b167-73fbd23ca4f4"
      },
      "source": [
        "train.dtypes"
      ],
      "execution_count": null,
      "outputs": [
        {
          "output_type": "execute_result",
          "data": {
            "text/plain": [
              "Date                  object\n",
              "Time_Slot              int64\n",
              "Bus_Stopase            int64\n",
              "Duration_Time        float64\n",
              "No_of_vechile        float64\n",
              "Traffic_Condition    float64\n",
              "dtype: object"
            ]
          },
          "metadata": {
            "tags": []
          },
          "execution_count": 18
        }
      ]
    },
    {
      "cell_type": "code",
      "metadata": {
        "id": "TIKKt1ebWOm4",
        "colab_type": "code",
        "colab": {
          "base_uri": "https://localhost:8080/",
          "height": 136
        },
        "outputId": "2b589cb5-f8a7-496b-df80-6a63abe03a1b"
      },
      "source": [
        "train.dtypes"
      ],
      "execution_count": null,
      "outputs": [
        {
          "output_type": "execute_result",
          "data": {
            "text/plain": [
              "Date                  object\n",
              "Time_Slot              int64\n",
              "Bus_Stopase            int64\n",
              "Duration_Time        float64\n",
              "No_of_vechile        float64\n",
              "Traffic_Condition    float64\n",
              "dtype: object"
            ]
          },
          "metadata": {
            "tags": []
          },
          "execution_count": 19
        }
      ]
    },
    {
      "cell_type": "code",
      "metadata": {
        "id": "Dkpg64lVXcL5",
        "colab_type": "code",
        "colab": {
          "base_uri": "https://localhost:8080/",
          "height": 238
        },
        "outputId": "711aa28b-a142-4d19-c97d-ded4bc4b0e24"
      },
      "source": [
        "train.info()"
      ],
      "execution_count": null,
      "outputs": [
        {
          "output_type": "stream",
          "text": [
            "<class 'pandas.core.frame.DataFrame'>\n",
            "RangeIndex: 5831 entries, 0 to 5830\n",
            "Data columns (total 6 columns):\n",
            " #   Column             Non-Null Count  Dtype  \n",
            "---  ------             --------------  -----  \n",
            " 0   Date               5831 non-null   object \n",
            " 1   Time_Slot          5831 non-null   int64  \n",
            " 2   Bus_Stopase        5831 non-null   int64  \n",
            " 3   Duration_Time      5831 non-null   float64\n",
            " 4   No_of_vechile      5831 non-null   float64\n",
            " 5   Traffic_Condition  5831 non-null   float64\n",
            "dtypes: float64(3), int64(2), object(1)\n",
            "memory usage: 273.5+ KB\n"
          ],
          "name": "stdout"
        }
      ]
    },
    {
      "cell_type": "code",
      "metadata": {
        "id": "F9Q1jqqpXfFA",
        "colab_type": "code",
        "colab": {
          "base_uri": "https://localhost:8080/",
          "height": 204
        },
        "outputId": "a8912b21-06d5-49d5-d75e-a34447dfc7b2"
      },
      "source": [
        "train.head()"
      ],
      "execution_count": null,
      "outputs": [
        {
          "output_type": "execute_result",
          "data": {
            "text/html": [
              "<div>\n",
              "<style scoped>\n",
              "    .dataframe tbody tr th:only-of-type {\n",
              "        vertical-align: middle;\n",
              "    }\n",
              "\n",
              "    .dataframe tbody tr th {\n",
              "        vertical-align: top;\n",
              "    }\n",
              "\n",
              "    .dataframe thead th {\n",
              "        text-align: right;\n",
              "    }\n",
              "</style>\n",
              "<table border=\"1\" class=\"dataframe\">\n",
              "  <thead>\n",
              "    <tr style=\"text-align: right;\">\n",
              "      <th></th>\n",
              "      <th>Date</th>\n",
              "      <th>Time_Slot</th>\n",
              "      <th>Bus_Stopase</th>\n",
              "      <th>Duration_Time</th>\n",
              "      <th>No_of_vechile</th>\n",
              "      <th>Traffic_Condition</th>\n",
              "    </tr>\n",
              "  </thead>\n",
              "  <tbody>\n",
              "    <tr>\n",
              "      <th>0</th>\n",
              "      <td>2020-10-19</td>\n",
              "      <td>1</td>\n",
              "      <td>1</td>\n",
              "      <td>5.0</td>\n",
              "      <td>14.0</td>\n",
              "      <td>0.0</td>\n",
              "    </tr>\n",
              "    <tr>\n",
              "      <th>1</th>\n",
              "      <td>2020-10-19</td>\n",
              "      <td>1</td>\n",
              "      <td>2</td>\n",
              "      <td>7.0</td>\n",
              "      <td>24.0</td>\n",
              "      <td>1.0</td>\n",
              "    </tr>\n",
              "    <tr>\n",
              "      <th>2</th>\n",
              "      <td>2020-10-19</td>\n",
              "      <td>1</td>\n",
              "      <td>3</td>\n",
              "      <td>4.0</td>\n",
              "      <td>16.0</td>\n",
              "      <td>0.0</td>\n",
              "    </tr>\n",
              "    <tr>\n",
              "      <th>3</th>\n",
              "      <td>2020-10-19</td>\n",
              "      <td>1</td>\n",
              "      <td>4</td>\n",
              "      <td>5.0</td>\n",
              "      <td>19.0</td>\n",
              "      <td>0.0</td>\n",
              "    </tr>\n",
              "    <tr>\n",
              "      <th>4</th>\n",
              "      <td>2020-10-19</td>\n",
              "      <td>1</td>\n",
              "      <td>5</td>\n",
              "      <td>6.0</td>\n",
              "      <td>17.0</td>\n",
              "      <td>0.0</td>\n",
              "    </tr>\n",
              "  </tbody>\n",
              "</table>\n",
              "</div>"
            ],
            "text/plain": [
              "         Date  Time_Slot  ...  No_of_vechile  Traffic_Condition\n",
              "0  2020-10-19          1  ...           14.0                0.0\n",
              "1  2020-10-19          1  ...           24.0                1.0\n",
              "2  2020-10-19          1  ...           16.0                0.0\n",
              "3  2020-10-19          1  ...           19.0                0.0\n",
              "4  2020-10-19          1  ...           17.0                0.0\n",
              "\n",
              "[5 rows x 6 columns]"
            ]
          },
          "metadata": {
            "tags": []
          },
          "execution_count": 21
        }
      ]
    },
    {
      "cell_type": "code",
      "metadata": {
        "id": "xcqMKoP3gNJI",
        "colab_type": "code",
        "colab": {}
      },
      "source": [
        "from datetime import datetime\n",
        "for dataset in train_test_data:\n",
        "    dataset['Date'] = dataset['Date']"
      ],
      "execution_count": null,
      "outputs": []
    },
    {
      "cell_type": "code",
      "metadata": {
        "id": "Sh4XJlTJapd5",
        "colab_type": "code",
        "colab": {
          "base_uri": "https://localhost:8080/",
          "height": 204
        },
        "outputId": "5849118c-729e-4067-ae82-24cc14f7505a"
      },
      "source": [
        "\n",
        "df = pd.DataFrame()\n",
        "df['Date'] = dataset['Date']\n",
        "df['Date'] = pd.to_datetime(df['Date'], errors='coerce')\n",
        "df.head()"
      ],
      "execution_count": null,
      "outputs": [
        {
          "output_type": "execute_result",
          "data": {
            "text/html": [
              "<div>\n",
              "<style scoped>\n",
              "    .dataframe tbody tr th:only-of-type {\n",
              "        vertical-align: middle;\n",
              "    }\n",
              "\n",
              "    .dataframe tbody tr th {\n",
              "        vertical-align: top;\n",
              "    }\n",
              "\n",
              "    .dataframe thead th {\n",
              "        text-align: right;\n",
              "    }\n",
              "</style>\n",
              "<table border=\"1\" class=\"dataframe\">\n",
              "  <thead>\n",
              "    <tr style=\"text-align: right;\">\n",
              "      <th></th>\n",
              "      <th>Date</th>\n",
              "    </tr>\n",
              "  </thead>\n",
              "  <tbody>\n",
              "    <tr>\n",
              "      <th>0</th>\n",
              "      <td>2020-10-19</td>\n",
              "    </tr>\n",
              "    <tr>\n",
              "      <th>1</th>\n",
              "      <td>2020-10-19</td>\n",
              "    </tr>\n",
              "    <tr>\n",
              "      <th>2</th>\n",
              "      <td>2020-10-19</td>\n",
              "    </tr>\n",
              "    <tr>\n",
              "      <th>3</th>\n",
              "      <td>2020-10-19</td>\n",
              "    </tr>\n",
              "    <tr>\n",
              "      <th>4</th>\n",
              "      <td>2020-10-19</td>\n",
              "    </tr>\n",
              "  </tbody>\n",
              "</table>\n",
              "</div>"
            ],
            "text/plain": [
              "        Date\n",
              "0 2020-10-19\n",
              "1 2020-10-19\n",
              "2 2020-10-19\n",
              "3 2020-10-19\n",
              "4 2020-10-19"
            ]
          },
          "metadata": {
            "tags": []
          },
          "execution_count": 23
        }
      ]
    },
    {
      "cell_type": "code",
      "metadata": {
        "id": "ozYqZoAeglTm",
        "colab_type": "code",
        "colab": {
          "base_uri": "https://localhost:8080/",
          "height": 204
        },
        "outputId": "4da8cc8a-8625-4ed5-a89f-94c242232695"
      },
      "source": [
        "df['year'] = df['Date'].dt.year\n",
        "df['month'] = df['Date'].dt.month\n",
        "df['day'] = df['Date'].dt.day\n",
        "df['weekday'] = df['Date'].dt.weekday\n",
        "df['dayofyear'] = df['Date'].dt.dayofyear\n",
        "df.head()"
      ],
      "execution_count": null,
      "outputs": [
        {
          "output_type": "execute_result",
          "data": {
            "text/html": [
              "<div>\n",
              "<style scoped>\n",
              "    .dataframe tbody tr th:only-of-type {\n",
              "        vertical-align: middle;\n",
              "    }\n",
              "\n",
              "    .dataframe tbody tr th {\n",
              "        vertical-align: top;\n",
              "    }\n",
              "\n",
              "    .dataframe thead th {\n",
              "        text-align: right;\n",
              "    }\n",
              "</style>\n",
              "<table border=\"1\" class=\"dataframe\">\n",
              "  <thead>\n",
              "    <tr style=\"text-align: right;\">\n",
              "      <th></th>\n",
              "      <th>Date</th>\n",
              "      <th>year</th>\n",
              "      <th>month</th>\n",
              "      <th>day</th>\n",
              "      <th>weekday</th>\n",
              "      <th>dayofyear</th>\n",
              "    </tr>\n",
              "  </thead>\n",
              "  <tbody>\n",
              "    <tr>\n",
              "      <th>0</th>\n",
              "      <td>2020-10-19</td>\n",
              "      <td>2020</td>\n",
              "      <td>10</td>\n",
              "      <td>19</td>\n",
              "      <td>0</td>\n",
              "      <td>293</td>\n",
              "    </tr>\n",
              "    <tr>\n",
              "      <th>1</th>\n",
              "      <td>2020-10-19</td>\n",
              "      <td>2020</td>\n",
              "      <td>10</td>\n",
              "      <td>19</td>\n",
              "      <td>0</td>\n",
              "      <td>293</td>\n",
              "    </tr>\n",
              "    <tr>\n",
              "      <th>2</th>\n",
              "      <td>2020-10-19</td>\n",
              "      <td>2020</td>\n",
              "      <td>10</td>\n",
              "      <td>19</td>\n",
              "      <td>0</td>\n",
              "      <td>293</td>\n",
              "    </tr>\n",
              "    <tr>\n",
              "      <th>3</th>\n",
              "      <td>2020-10-19</td>\n",
              "      <td>2020</td>\n",
              "      <td>10</td>\n",
              "      <td>19</td>\n",
              "      <td>0</td>\n",
              "      <td>293</td>\n",
              "    </tr>\n",
              "    <tr>\n",
              "      <th>4</th>\n",
              "      <td>2020-10-19</td>\n",
              "      <td>2020</td>\n",
              "      <td>10</td>\n",
              "      <td>19</td>\n",
              "      <td>0</td>\n",
              "      <td>293</td>\n",
              "    </tr>\n",
              "  </tbody>\n",
              "</table>\n",
              "</div>"
            ],
            "text/plain": [
              "        Date  year  month  day  weekday  dayofyear\n",
              "0 2020-10-19  2020     10   19        0        293\n",
              "1 2020-10-19  2020     10   19        0        293\n",
              "2 2020-10-19  2020     10   19        0        293\n",
              "3 2020-10-19  2020     10   19        0        293\n",
              "4 2020-10-19  2020     10   19        0        293"
            ]
          },
          "metadata": {
            "tags": []
          },
          "execution_count": 24
        }
      ]
    },
    {
      "cell_type": "code",
      "metadata": {
        "id": "9z8KahP1ogUq",
        "colab_type": "code",
        "colab": {
          "base_uri": "https://localhost:8080/",
          "height": 204
        },
        "outputId": "cc70c96e-ad1e-41ea-8ae9-a9b4cf9ddec6"
      },
      "source": [
        "train.head()"
      ],
      "execution_count": null,
      "outputs": [
        {
          "output_type": "execute_result",
          "data": {
            "text/html": [
              "<div>\n",
              "<style scoped>\n",
              "    .dataframe tbody tr th:only-of-type {\n",
              "        vertical-align: middle;\n",
              "    }\n",
              "\n",
              "    .dataframe tbody tr th {\n",
              "        vertical-align: top;\n",
              "    }\n",
              "\n",
              "    .dataframe thead th {\n",
              "        text-align: right;\n",
              "    }\n",
              "</style>\n",
              "<table border=\"1\" class=\"dataframe\">\n",
              "  <thead>\n",
              "    <tr style=\"text-align: right;\">\n",
              "      <th></th>\n",
              "      <th>Date</th>\n",
              "      <th>Time_Slot</th>\n",
              "      <th>Bus_Stopase</th>\n",
              "      <th>Duration_Time</th>\n",
              "      <th>No_of_vechile</th>\n",
              "      <th>Traffic_Condition</th>\n",
              "    </tr>\n",
              "  </thead>\n",
              "  <tbody>\n",
              "    <tr>\n",
              "      <th>0</th>\n",
              "      <td>2020-10-19</td>\n",
              "      <td>1</td>\n",
              "      <td>1</td>\n",
              "      <td>5.0</td>\n",
              "      <td>14.0</td>\n",
              "      <td>0.0</td>\n",
              "    </tr>\n",
              "    <tr>\n",
              "      <th>1</th>\n",
              "      <td>2020-10-19</td>\n",
              "      <td>1</td>\n",
              "      <td>2</td>\n",
              "      <td>7.0</td>\n",
              "      <td>24.0</td>\n",
              "      <td>1.0</td>\n",
              "    </tr>\n",
              "    <tr>\n",
              "      <th>2</th>\n",
              "      <td>2020-10-19</td>\n",
              "      <td>1</td>\n",
              "      <td>3</td>\n",
              "      <td>4.0</td>\n",
              "      <td>16.0</td>\n",
              "      <td>0.0</td>\n",
              "    </tr>\n",
              "    <tr>\n",
              "      <th>3</th>\n",
              "      <td>2020-10-19</td>\n",
              "      <td>1</td>\n",
              "      <td>4</td>\n",
              "      <td>5.0</td>\n",
              "      <td>19.0</td>\n",
              "      <td>0.0</td>\n",
              "    </tr>\n",
              "    <tr>\n",
              "      <th>4</th>\n",
              "      <td>2020-10-19</td>\n",
              "      <td>1</td>\n",
              "      <td>5</td>\n",
              "      <td>6.0</td>\n",
              "      <td>17.0</td>\n",
              "      <td>0.0</td>\n",
              "    </tr>\n",
              "  </tbody>\n",
              "</table>\n",
              "</div>"
            ],
            "text/plain": [
              "         Date  Time_Slot  ...  No_of_vechile  Traffic_Condition\n",
              "0  2020-10-19          1  ...           14.0                0.0\n",
              "1  2020-10-19          1  ...           24.0                1.0\n",
              "2  2020-10-19          1  ...           16.0                0.0\n",
              "3  2020-10-19          1  ...           19.0                0.0\n",
              "4  2020-10-19          1  ...           17.0                0.0\n",
              "\n",
              "[5 rows x 6 columns]"
            ]
          },
          "metadata": {
            "tags": []
          },
          "execution_count": 25
        }
      ]
    },
    {
      "cell_type": "code",
      "metadata": {
        "id": "J3OFY2Y0pQub",
        "colab_type": "code",
        "colab": {
          "base_uri": "https://localhost:8080/",
          "height": 204
        },
        "outputId": "c2ff2635-8438-4140-be0d-b250b787baa4"
      },
      "source": [
        "df.head()"
      ],
      "execution_count": null,
      "outputs": [
        {
          "output_type": "execute_result",
          "data": {
            "text/html": [
              "<div>\n",
              "<style scoped>\n",
              "    .dataframe tbody tr th:only-of-type {\n",
              "        vertical-align: middle;\n",
              "    }\n",
              "\n",
              "    .dataframe tbody tr th {\n",
              "        vertical-align: top;\n",
              "    }\n",
              "\n",
              "    .dataframe thead th {\n",
              "        text-align: right;\n",
              "    }\n",
              "</style>\n",
              "<table border=\"1\" class=\"dataframe\">\n",
              "  <thead>\n",
              "    <tr style=\"text-align: right;\">\n",
              "      <th></th>\n",
              "      <th>Date</th>\n",
              "      <th>year</th>\n",
              "      <th>month</th>\n",
              "      <th>day</th>\n",
              "      <th>weekday</th>\n",
              "      <th>dayofyear</th>\n",
              "    </tr>\n",
              "  </thead>\n",
              "  <tbody>\n",
              "    <tr>\n",
              "      <th>0</th>\n",
              "      <td>2020-10-19</td>\n",
              "      <td>2020</td>\n",
              "      <td>10</td>\n",
              "      <td>19</td>\n",
              "      <td>0</td>\n",
              "      <td>293</td>\n",
              "    </tr>\n",
              "    <tr>\n",
              "      <th>1</th>\n",
              "      <td>2020-10-19</td>\n",
              "      <td>2020</td>\n",
              "      <td>10</td>\n",
              "      <td>19</td>\n",
              "      <td>0</td>\n",
              "      <td>293</td>\n",
              "    </tr>\n",
              "    <tr>\n",
              "      <th>2</th>\n",
              "      <td>2020-10-19</td>\n",
              "      <td>2020</td>\n",
              "      <td>10</td>\n",
              "      <td>19</td>\n",
              "      <td>0</td>\n",
              "      <td>293</td>\n",
              "    </tr>\n",
              "    <tr>\n",
              "      <th>3</th>\n",
              "      <td>2020-10-19</td>\n",
              "      <td>2020</td>\n",
              "      <td>10</td>\n",
              "      <td>19</td>\n",
              "      <td>0</td>\n",
              "      <td>293</td>\n",
              "    </tr>\n",
              "    <tr>\n",
              "      <th>4</th>\n",
              "      <td>2020-10-19</td>\n",
              "      <td>2020</td>\n",
              "      <td>10</td>\n",
              "      <td>19</td>\n",
              "      <td>0</td>\n",
              "      <td>293</td>\n",
              "    </tr>\n",
              "  </tbody>\n",
              "</table>\n",
              "</div>"
            ],
            "text/plain": [
              "        Date  year  month  day  weekday  dayofyear\n",
              "0 2020-10-19  2020     10   19        0        293\n",
              "1 2020-10-19  2020     10   19        0        293\n",
              "2 2020-10-19  2020     10   19        0        293\n",
              "3 2020-10-19  2020     10   19        0        293\n",
              "4 2020-10-19  2020     10   19        0        293"
            ]
          },
          "metadata": {
            "tags": []
          },
          "execution_count": 26
        }
      ]
    },
    {
      "cell_type": "code",
      "metadata": {
        "id": "17FUoqydrLZ8",
        "colab_type": "code",
        "colab": {}
      },
      "source": [
        ""
      ],
      "execution_count": null,
      "outputs": []
    },
    {
      "cell_type": "code",
      "metadata": {
        "id": "MMxpEaYWq2xh",
        "colab_type": "code",
        "colab": {}
      },
      "source": [
        "df1 = pd.DataFrame(train)"
      ],
      "execution_count": null,
      "outputs": []
    },
    {
      "cell_type": "code",
      "metadata": {
        "id": "gYjltf_-uY7T",
        "colab_type": "code",
        "colab": {
          "base_uri": "https://localhost:8080/",
          "height": 204
        },
        "outputId": "e7d1a332-74b2-429e-e261-266c7d6ddd2d"
      },
      "source": [
        "df1.head()"
      ],
      "execution_count": null,
      "outputs": [
        {
          "output_type": "execute_result",
          "data": {
            "text/html": [
              "<div>\n",
              "<style scoped>\n",
              "    .dataframe tbody tr th:only-of-type {\n",
              "        vertical-align: middle;\n",
              "    }\n",
              "\n",
              "    .dataframe tbody tr th {\n",
              "        vertical-align: top;\n",
              "    }\n",
              "\n",
              "    .dataframe thead th {\n",
              "        text-align: right;\n",
              "    }\n",
              "</style>\n",
              "<table border=\"1\" class=\"dataframe\">\n",
              "  <thead>\n",
              "    <tr style=\"text-align: right;\">\n",
              "      <th></th>\n",
              "      <th>Date</th>\n",
              "      <th>Time_Slot</th>\n",
              "      <th>Bus_Stopase</th>\n",
              "      <th>Duration_Time</th>\n",
              "      <th>No_of_vechile</th>\n",
              "      <th>Traffic_Condition</th>\n",
              "    </tr>\n",
              "  </thead>\n",
              "  <tbody>\n",
              "    <tr>\n",
              "      <th>0</th>\n",
              "      <td>2020-10-19</td>\n",
              "      <td>1</td>\n",
              "      <td>1</td>\n",
              "      <td>5.0</td>\n",
              "      <td>14.0</td>\n",
              "      <td>0.0</td>\n",
              "    </tr>\n",
              "    <tr>\n",
              "      <th>1</th>\n",
              "      <td>2020-10-19</td>\n",
              "      <td>1</td>\n",
              "      <td>2</td>\n",
              "      <td>7.0</td>\n",
              "      <td>24.0</td>\n",
              "      <td>1.0</td>\n",
              "    </tr>\n",
              "    <tr>\n",
              "      <th>2</th>\n",
              "      <td>2020-10-19</td>\n",
              "      <td>1</td>\n",
              "      <td>3</td>\n",
              "      <td>4.0</td>\n",
              "      <td>16.0</td>\n",
              "      <td>0.0</td>\n",
              "    </tr>\n",
              "    <tr>\n",
              "      <th>3</th>\n",
              "      <td>2020-10-19</td>\n",
              "      <td>1</td>\n",
              "      <td>4</td>\n",
              "      <td>5.0</td>\n",
              "      <td>19.0</td>\n",
              "      <td>0.0</td>\n",
              "    </tr>\n",
              "    <tr>\n",
              "      <th>4</th>\n",
              "      <td>2020-10-19</td>\n",
              "      <td>1</td>\n",
              "      <td>5</td>\n",
              "      <td>6.0</td>\n",
              "      <td>17.0</td>\n",
              "      <td>0.0</td>\n",
              "    </tr>\n",
              "  </tbody>\n",
              "</table>\n",
              "</div>"
            ],
            "text/plain": [
              "         Date  Time_Slot  ...  No_of_vechile  Traffic_Condition\n",
              "0  2020-10-19          1  ...           14.0                0.0\n",
              "1  2020-10-19          1  ...           24.0                1.0\n",
              "2  2020-10-19          1  ...           16.0                0.0\n",
              "3  2020-10-19          1  ...           19.0                0.0\n",
              "4  2020-10-19          1  ...           17.0                0.0\n",
              "\n",
              "[5 rows x 6 columns]"
            ]
          },
          "metadata": {
            "tags": []
          },
          "execution_count": 28
        }
      ]
    },
    {
      "cell_type": "code",
      "metadata": {
        "id": "wy7ZIAlYq-Cn",
        "colab_type": "code",
        "colab": {}
      },
      "source": [
        "df_row = pd.concat([df, df1], axis=1, sort=False)"
      ],
      "execution_count": null,
      "outputs": []
    },
    {
      "cell_type": "code",
      "metadata": {
        "id": "CzMm9gvgrARl",
        "colab_type": "code",
        "colab": {
          "base_uri": "https://localhost:8080/",
          "height": 419
        },
        "outputId": "485a8915-7755-40bd-bc98-058195741bbc"
      },
      "source": [
        "df_row.head(100)"
      ],
      "execution_count": null,
      "outputs": [
        {
          "output_type": "execute_result",
          "data": {
            "text/html": [
              "<div>\n",
              "<style scoped>\n",
              "    .dataframe tbody tr th:only-of-type {\n",
              "        vertical-align: middle;\n",
              "    }\n",
              "\n",
              "    .dataframe tbody tr th {\n",
              "        vertical-align: top;\n",
              "    }\n",
              "\n",
              "    .dataframe thead th {\n",
              "        text-align: right;\n",
              "    }\n",
              "</style>\n",
              "<table border=\"1\" class=\"dataframe\">\n",
              "  <thead>\n",
              "    <tr style=\"text-align: right;\">\n",
              "      <th></th>\n",
              "      <th>Date</th>\n",
              "      <th>year</th>\n",
              "      <th>month</th>\n",
              "      <th>day</th>\n",
              "      <th>weekday</th>\n",
              "      <th>dayofyear</th>\n",
              "      <th>Date</th>\n",
              "      <th>Time_Slot</th>\n",
              "      <th>Bus_Stopase</th>\n",
              "      <th>Duration_Time</th>\n",
              "      <th>No_of_vechile</th>\n",
              "      <th>Traffic_Condition</th>\n",
              "    </tr>\n",
              "  </thead>\n",
              "  <tbody>\n",
              "    <tr>\n",
              "      <th>0</th>\n",
              "      <td>2020-10-19</td>\n",
              "      <td>2020</td>\n",
              "      <td>10</td>\n",
              "      <td>19</td>\n",
              "      <td>0</td>\n",
              "      <td>293</td>\n",
              "      <td>2020-10-19</td>\n",
              "      <td>1</td>\n",
              "      <td>1</td>\n",
              "      <td>5.0</td>\n",
              "      <td>14.0</td>\n",
              "      <td>0.0</td>\n",
              "    </tr>\n",
              "    <tr>\n",
              "      <th>1</th>\n",
              "      <td>2020-10-19</td>\n",
              "      <td>2020</td>\n",
              "      <td>10</td>\n",
              "      <td>19</td>\n",
              "      <td>0</td>\n",
              "      <td>293</td>\n",
              "      <td>2020-10-19</td>\n",
              "      <td>1</td>\n",
              "      <td>2</td>\n",
              "      <td>7.0</td>\n",
              "      <td>24.0</td>\n",
              "      <td>1.0</td>\n",
              "    </tr>\n",
              "    <tr>\n",
              "      <th>2</th>\n",
              "      <td>2020-10-19</td>\n",
              "      <td>2020</td>\n",
              "      <td>10</td>\n",
              "      <td>19</td>\n",
              "      <td>0</td>\n",
              "      <td>293</td>\n",
              "      <td>2020-10-19</td>\n",
              "      <td>1</td>\n",
              "      <td>3</td>\n",
              "      <td>4.0</td>\n",
              "      <td>16.0</td>\n",
              "      <td>0.0</td>\n",
              "    </tr>\n",
              "    <tr>\n",
              "      <th>3</th>\n",
              "      <td>2020-10-19</td>\n",
              "      <td>2020</td>\n",
              "      <td>10</td>\n",
              "      <td>19</td>\n",
              "      <td>0</td>\n",
              "      <td>293</td>\n",
              "      <td>2020-10-19</td>\n",
              "      <td>1</td>\n",
              "      <td>4</td>\n",
              "      <td>5.0</td>\n",
              "      <td>19.0</td>\n",
              "      <td>0.0</td>\n",
              "    </tr>\n",
              "    <tr>\n",
              "      <th>4</th>\n",
              "      <td>2020-10-19</td>\n",
              "      <td>2020</td>\n",
              "      <td>10</td>\n",
              "      <td>19</td>\n",
              "      <td>0</td>\n",
              "      <td>293</td>\n",
              "      <td>2020-10-19</td>\n",
              "      <td>1</td>\n",
              "      <td>5</td>\n",
              "      <td>6.0</td>\n",
              "      <td>17.0</td>\n",
              "      <td>0.0</td>\n",
              "    </tr>\n",
              "    <tr>\n",
              "      <th>...</th>\n",
              "      <td>...</td>\n",
              "      <td>...</td>\n",
              "      <td>...</td>\n",
              "      <td>...</td>\n",
              "      <td>...</td>\n",
              "      <td>...</td>\n",
              "      <td>...</td>\n",
              "      <td>...</td>\n",
              "      <td>...</td>\n",
              "      <td>...</td>\n",
              "      <td>...</td>\n",
              "      <td>...</td>\n",
              "    </tr>\n",
              "    <tr>\n",
              "      <th>95</th>\n",
              "      <td>2020-10-19</td>\n",
              "      <td>2020</td>\n",
              "      <td>10</td>\n",
              "      <td>19</td>\n",
              "      <td>0</td>\n",
              "      <td>293</td>\n",
              "      <td>2020-10-19</td>\n",
              "      <td>6</td>\n",
              "      <td>11</td>\n",
              "      <td>8.0</td>\n",
              "      <td>38.0</td>\n",
              "      <td>1.0</td>\n",
              "    </tr>\n",
              "    <tr>\n",
              "      <th>96</th>\n",
              "      <td>2020-10-19</td>\n",
              "      <td>2020</td>\n",
              "      <td>10</td>\n",
              "      <td>19</td>\n",
              "      <td>0</td>\n",
              "      <td>293</td>\n",
              "      <td>2020-10-19</td>\n",
              "      <td>6</td>\n",
              "      <td>12</td>\n",
              "      <td>9.0</td>\n",
              "      <td>31.0</td>\n",
              "      <td>1.0</td>\n",
              "    </tr>\n",
              "    <tr>\n",
              "      <th>97</th>\n",
              "      <td>2020-10-19</td>\n",
              "      <td>2020</td>\n",
              "      <td>10</td>\n",
              "      <td>19</td>\n",
              "      <td>0</td>\n",
              "      <td>293</td>\n",
              "      <td>2020-10-19</td>\n",
              "      <td>6</td>\n",
              "      <td>13</td>\n",
              "      <td>4.0</td>\n",
              "      <td>25.0</td>\n",
              "      <td>1.0</td>\n",
              "    </tr>\n",
              "    <tr>\n",
              "      <th>98</th>\n",
              "      <td>2020-10-19</td>\n",
              "      <td>2020</td>\n",
              "      <td>10</td>\n",
              "      <td>19</td>\n",
              "      <td>0</td>\n",
              "      <td>293</td>\n",
              "      <td>2020-10-19</td>\n",
              "      <td>6</td>\n",
              "      <td>14</td>\n",
              "      <td>9.0</td>\n",
              "      <td>18.0</td>\n",
              "      <td>0.0</td>\n",
              "    </tr>\n",
              "    <tr>\n",
              "      <th>99</th>\n",
              "      <td>2020-10-19</td>\n",
              "      <td>2020</td>\n",
              "      <td>10</td>\n",
              "      <td>19</td>\n",
              "      <td>0</td>\n",
              "      <td>293</td>\n",
              "      <td>2020-10-19</td>\n",
              "      <td>6</td>\n",
              "      <td>15</td>\n",
              "      <td>6.0</td>\n",
              "      <td>24.0</td>\n",
              "      <td>1.0</td>\n",
              "    </tr>\n",
              "  </tbody>\n",
              "</table>\n",
              "<p>100 rows × 12 columns</p>\n",
              "</div>"
            ],
            "text/plain": [
              "         Date  year  month  ...  Duration_Time  No_of_vechile  Traffic_Condition\n",
              "0  2020-10-19  2020     10  ...            5.0           14.0                0.0\n",
              "1  2020-10-19  2020     10  ...            7.0           24.0                1.0\n",
              "2  2020-10-19  2020     10  ...            4.0           16.0                0.0\n",
              "3  2020-10-19  2020     10  ...            5.0           19.0                0.0\n",
              "4  2020-10-19  2020     10  ...            6.0           17.0                0.0\n",
              "..        ...   ...    ...  ...            ...            ...                ...\n",
              "95 2020-10-19  2020     10  ...            8.0           38.0                1.0\n",
              "96 2020-10-19  2020     10  ...            9.0           31.0                1.0\n",
              "97 2020-10-19  2020     10  ...            4.0           25.0                1.0\n",
              "98 2020-10-19  2020     10  ...            9.0           18.0                0.0\n",
              "99 2020-10-19  2020     10  ...            6.0           24.0                1.0\n",
              "\n",
              "[100 rows x 12 columns]"
            ]
          },
          "metadata": {
            "tags": []
          },
          "execution_count": 30
        }
      ]
    },
    {
      "cell_type": "code",
      "metadata": {
        "id": "cHF3_tUqvsIi",
        "colab_type": "code",
        "colab": {
          "base_uri": "https://localhost:8080/",
          "height": 340
        },
        "outputId": "1ad6a184-dbf7-4233-adce-a0cc2fc50b32"
      },
      "source": [
        "df_row.info()"
      ],
      "execution_count": null,
      "outputs": [
        {
          "output_type": "stream",
          "text": [
            "<class 'pandas.core.frame.DataFrame'>\n",
            "RangeIndex: 5831 entries, 0 to 5830\n",
            "Data columns (total 12 columns):\n",
            " #   Column             Non-Null Count  Dtype         \n",
            "---  ------             --------------  -----         \n",
            " 0   Date               5831 non-null   datetime64[ns]\n",
            " 1   year               5831 non-null   int64         \n",
            " 2   month              5831 non-null   int64         \n",
            " 3   day                5831 non-null   int64         \n",
            " 4   weekday            5831 non-null   int64         \n",
            " 5   dayofyear          5831 non-null   int64         \n",
            " 6   Date               5831 non-null   object        \n",
            " 7   Time_Slot          5831 non-null   int64         \n",
            " 8   Bus_Stopase        5831 non-null   int64         \n",
            " 9   Duration_Time      5831 non-null   float64       \n",
            " 10  No_of_vechile      5831 non-null   float64       \n",
            " 11  Traffic_Condition  5831 non-null   float64       \n",
            "dtypes: datetime64[ns](1), float64(3), int64(7), object(1)\n",
            "memory usage: 546.8+ KB\n"
          ],
          "name": "stdout"
        }
      ]
    },
    {
      "cell_type": "code",
      "metadata": {
        "id": "RJg6X6SVvE8G",
        "colab_type": "code",
        "colab": {}
      },
      "source": [
        "train_final = df_row.drop(['Date'], axis=1)"
      ],
      "execution_count": null,
      "outputs": []
    },
    {
      "cell_type": "code",
      "metadata": {
        "id": "hkEu6KH-wI7d",
        "colab_type": "code",
        "colab": {
          "base_uri": "https://localhost:8080/",
          "height": 204
        },
        "outputId": "abdc2da9-54aa-4923-ee10-9b426fdb3010"
      },
      "source": [
        "train_final.head()"
      ],
      "execution_count": null,
      "outputs": [
        {
          "output_type": "execute_result",
          "data": {
            "text/html": [
              "<div>\n",
              "<style scoped>\n",
              "    .dataframe tbody tr th:only-of-type {\n",
              "        vertical-align: middle;\n",
              "    }\n",
              "\n",
              "    .dataframe tbody tr th {\n",
              "        vertical-align: top;\n",
              "    }\n",
              "\n",
              "    .dataframe thead th {\n",
              "        text-align: right;\n",
              "    }\n",
              "</style>\n",
              "<table border=\"1\" class=\"dataframe\">\n",
              "  <thead>\n",
              "    <tr style=\"text-align: right;\">\n",
              "      <th></th>\n",
              "      <th>year</th>\n",
              "      <th>month</th>\n",
              "      <th>day</th>\n",
              "      <th>weekday</th>\n",
              "      <th>dayofyear</th>\n",
              "      <th>Time_Slot</th>\n",
              "      <th>Bus_Stopase</th>\n",
              "      <th>Duration_Time</th>\n",
              "      <th>No_of_vechile</th>\n",
              "      <th>Traffic_Condition</th>\n",
              "    </tr>\n",
              "  </thead>\n",
              "  <tbody>\n",
              "    <tr>\n",
              "      <th>0</th>\n",
              "      <td>2020</td>\n",
              "      <td>10</td>\n",
              "      <td>19</td>\n",
              "      <td>0</td>\n",
              "      <td>293</td>\n",
              "      <td>1</td>\n",
              "      <td>1</td>\n",
              "      <td>5.0</td>\n",
              "      <td>14.0</td>\n",
              "      <td>0.0</td>\n",
              "    </tr>\n",
              "    <tr>\n",
              "      <th>1</th>\n",
              "      <td>2020</td>\n",
              "      <td>10</td>\n",
              "      <td>19</td>\n",
              "      <td>0</td>\n",
              "      <td>293</td>\n",
              "      <td>1</td>\n",
              "      <td>2</td>\n",
              "      <td>7.0</td>\n",
              "      <td>24.0</td>\n",
              "      <td>1.0</td>\n",
              "    </tr>\n",
              "    <tr>\n",
              "      <th>2</th>\n",
              "      <td>2020</td>\n",
              "      <td>10</td>\n",
              "      <td>19</td>\n",
              "      <td>0</td>\n",
              "      <td>293</td>\n",
              "      <td>1</td>\n",
              "      <td>3</td>\n",
              "      <td>4.0</td>\n",
              "      <td>16.0</td>\n",
              "      <td>0.0</td>\n",
              "    </tr>\n",
              "    <tr>\n",
              "      <th>3</th>\n",
              "      <td>2020</td>\n",
              "      <td>10</td>\n",
              "      <td>19</td>\n",
              "      <td>0</td>\n",
              "      <td>293</td>\n",
              "      <td>1</td>\n",
              "      <td>4</td>\n",
              "      <td>5.0</td>\n",
              "      <td>19.0</td>\n",
              "      <td>0.0</td>\n",
              "    </tr>\n",
              "    <tr>\n",
              "      <th>4</th>\n",
              "      <td>2020</td>\n",
              "      <td>10</td>\n",
              "      <td>19</td>\n",
              "      <td>0</td>\n",
              "      <td>293</td>\n",
              "      <td>1</td>\n",
              "      <td>5</td>\n",
              "      <td>6.0</td>\n",
              "      <td>17.0</td>\n",
              "      <td>0.0</td>\n",
              "    </tr>\n",
              "  </tbody>\n",
              "</table>\n",
              "</div>"
            ],
            "text/plain": [
              "   year  month  day  ...  Duration_Time  No_of_vechile  Traffic_Condition\n",
              "0  2020     10   19  ...            5.0           14.0                0.0\n",
              "1  2020     10   19  ...            7.0           24.0                1.0\n",
              "2  2020     10   19  ...            4.0           16.0                0.0\n",
              "3  2020     10   19  ...            5.0           19.0                0.0\n",
              "4  2020     10   19  ...            6.0           17.0                0.0\n",
              "\n",
              "[5 rows x 10 columns]"
            ]
          },
          "metadata": {
            "tags": []
          },
          "execution_count": 33
        }
      ]
    },
    {
      "cell_type": "code",
      "metadata": {
        "id": "56lWodTONNJi",
        "colab_type": "code",
        "colab": {}
      },
      "source": [
        "train_final = train_final.drop(['weekday'], axis=1)"
      ],
      "execution_count": null,
      "outputs": []
    },
    {
      "cell_type": "code",
      "metadata": {
        "id": "GvCkdnp-RzIL",
        "colab_type": "code",
        "colab": {
          "base_uri": "https://localhost:8080/",
          "height": 204
        },
        "outputId": "50b7b15d-4a25-4020-f01e-0505d99e3e70"
      },
      "source": [
        "train_final.head()"
      ],
      "execution_count": null,
      "outputs": [
        {
          "output_type": "execute_result",
          "data": {
            "text/html": [
              "<div>\n",
              "<style scoped>\n",
              "    .dataframe tbody tr th:only-of-type {\n",
              "        vertical-align: middle;\n",
              "    }\n",
              "\n",
              "    .dataframe tbody tr th {\n",
              "        vertical-align: top;\n",
              "    }\n",
              "\n",
              "    .dataframe thead th {\n",
              "        text-align: right;\n",
              "    }\n",
              "</style>\n",
              "<table border=\"1\" class=\"dataframe\">\n",
              "  <thead>\n",
              "    <tr style=\"text-align: right;\">\n",
              "      <th></th>\n",
              "      <th>year</th>\n",
              "      <th>month</th>\n",
              "      <th>day</th>\n",
              "      <th>dayofyear</th>\n",
              "      <th>Time_Slot</th>\n",
              "      <th>Bus_Stopase</th>\n",
              "      <th>Duration_Time</th>\n",
              "      <th>No_of_vechile</th>\n",
              "      <th>Traffic_Condition</th>\n",
              "    </tr>\n",
              "  </thead>\n",
              "  <tbody>\n",
              "    <tr>\n",
              "      <th>0</th>\n",
              "      <td>2020</td>\n",
              "      <td>10</td>\n",
              "      <td>19</td>\n",
              "      <td>293</td>\n",
              "      <td>1</td>\n",
              "      <td>1</td>\n",
              "      <td>5.0</td>\n",
              "      <td>14.0</td>\n",
              "      <td>0.0</td>\n",
              "    </tr>\n",
              "    <tr>\n",
              "      <th>1</th>\n",
              "      <td>2020</td>\n",
              "      <td>10</td>\n",
              "      <td>19</td>\n",
              "      <td>293</td>\n",
              "      <td>1</td>\n",
              "      <td>2</td>\n",
              "      <td>7.0</td>\n",
              "      <td>24.0</td>\n",
              "      <td>1.0</td>\n",
              "    </tr>\n",
              "    <tr>\n",
              "      <th>2</th>\n",
              "      <td>2020</td>\n",
              "      <td>10</td>\n",
              "      <td>19</td>\n",
              "      <td>293</td>\n",
              "      <td>1</td>\n",
              "      <td>3</td>\n",
              "      <td>4.0</td>\n",
              "      <td>16.0</td>\n",
              "      <td>0.0</td>\n",
              "    </tr>\n",
              "    <tr>\n",
              "      <th>3</th>\n",
              "      <td>2020</td>\n",
              "      <td>10</td>\n",
              "      <td>19</td>\n",
              "      <td>293</td>\n",
              "      <td>1</td>\n",
              "      <td>4</td>\n",
              "      <td>5.0</td>\n",
              "      <td>19.0</td>\n",
              "      <td>0.0</td>\n",
              "    </tr>\n",
              "    <tr>\n",
              "      <th>4</th>\n",
              "      <td>2020</td>\n",
              "      <td>10</td>\n",
              "      <td>19</td>\n",
              "      <td>293</td>\n",
              "      <td>1</td>\n",
              "      <td>5</td>\n",
              "      <td>6.0</td>\n",
              "      <td>17.0</td>\n",
              "      <td>0.0</td>\n",
              "    </tr>\n",
              "  </tbody>\n",
              "</table>\n",
              "</div>"
            ],
            "text/plain": [
              "   year  month  day  ...  Duration_Time  No_of_vechile  Traffic_Condition\n",
              "0  2020     10   19  ...            5.0           14.0                0.0\n",
              "1  2020     10   19  ...            7.0           24.0                1.0\n",
              "2  2020     10   19  ...            4.0           16.0                0.0\n",
              "3  2020     10   19  ...            5.0           19.0                0.0\n",
              "4  2020     10   19  ...            6.0           17.0                0.0\n",
              "\n",
              "[5 rows x 9 columns]"
            ]
          },
          "metadata": {
            "tags": []
          },
          "execution_count": 35
        }
      ]
    },
    {
      "cell_type": "code",
      "metadata": {
        "id": "-aXT7EP5Ndrc",
        "colab_type": "code",
        "colab": {}
      },
      "source": [
        "train_final= train_final.drop(['dayofyear'], axis=1)"
      ],
      "execution_count": null,
      "outputs": []
    },
    {
      "cell_type": "code",
      "metadata": {
        "id": "NrphNXRgR6jc",
        "colab_type": "code",
        "colab": {
          "base_uri": "https://localhost:8080/",
          "height": 204
        },
        "outputId": "32846a76-24dc-43e9-bfbe-8b94d91ae3c1"
      },
      "source": [
        "train_final.head()"
      ],
      "execution_count": null,
      "outputs": [
        {
          "output_type": "execute_result",
          "data": {
            "text/html": [
              "<div>\n",
              "<style scoped>\n",
              "    .dataframe tbody tr th:only-of-type {\n",
              "        vertical-align: middle;\n",
              "    }\n",
              "\n",
              "    .dataframe tbody tr th {\n",
              "        vertical-align: top;\n",
              "    }\n",
              "\n",
              "    .dataframe thead th {\n",
              "        text-align: right;\n",
              "    }\n",
              "</style>\n",
              "<table border=\"1\" class=\"dataframe\">\n",
              "  <thead>\n",
              "    <tr style=\"text-align: right;\">\n",
              "      <th></th>\n",
              "      <th>year</th>\n",
              "      <th>month</th>\n",
              "      <th>day</th>\n",
              "      <th>Time_Slot</th>\n",
              "      <th>Bus_Stopase</th>\n",
              "      <th>Duration_Time</th>\n",
              "      <th>No_of_vechile</th>\n",
              "      <th>Traffic_Condition</th>\n",
              "    </tr>\n",
              "  </thead>\n",
              "  <tbody>\n",
              "    <tr>\n",
              "      <th>0</th>\n",
              "      <td>2020</td>\n",
              "      <td>10</td>\n",
              "      <td>19</td>\n",
              "      <td>1</td>\n",
              "      <td>1</td>\n",
              "      <td>5.0</td>\n",
              "      <td>14.0</td>\n",
              "      <td>0.0</td>\n",
              "    </tr>\n",
              "    <tr>\n",
              "      <th>1</th>\n",
              "      <td>2020</td>\n",
              "      <td>10</td>\n",
              "      <td>19</td>\n",
              "      <td>1</td>\n",
              "      <td>2</td>\n",
              "      <td>7.0</td>\n",
              "      <td>24.0</td>\n",
              "      <td>1.0</td>\n",
              "    </tr>\n",
              "    <tr>\n",
              "      <th>2</th>\n",
              "      <td>2020</td>\n",
              "      <td>10</td>\n",
              "      <td>19</td>\n",
              "      <td>1</td>\n",
              "      <td>3</td>\n",
              "      <td>4.0</td>\n",
              "      <td>16.0</td>\n",
              "      <td>0.0</td>\n",
              "    </tr>\n",
              "    <tr>\n",
              "      <th>3</th>\n",
              "      <td>2020</td>\n",
              "      <td>10</td>\n",
              "      <td>19</td>\n",
              "      <td>1</td>\n",
              "      <td>4</td>\n",
              "      <td>5.0</td>\n",
              "      <td>19.0</td>\n",
              "      <td>0.0</td>\n",
              "    </tr>\n",
              "    <tr>\n",
              "      <th>4</th>\n",
              "      <td>2020</td>\n",
              "      <td>10</td>\n",
              "      <td>19</td>\n",
              "      <td>1</td>\n",
              "      <td>5</td>\n",
              "      <td>6.0</td>\n",
              "      <td>17.0</td>\n",
              "      <td>0.0</td>\n",
              "    </tr>\n",
              "  </tbody>\n",
              "</table>\n",
              "</div>"
            ],
            "text/plain": [
              "   year  month  day  ...  Duration_Time  No_of_vechile  Traffic_Condition\n",
              "0  2020     10   19  ...            5.0           14.0                0.0\n",
              "1  2020     10   19  ...            7.0           24.0                1.0\n",
              "2  2020     10   19  ...            4.0           16.0                0.0\n",
              "3  2020     10   19  ...            5.0           19.0                0.0\n",
              "4  2020     10   19  ...            6.0           17.0                0.0\n",
              "\n",
              "[5 rows x 8 columns]"
            ]
          },
          "metadata": {
            "tags": []
          },
          "execution_count": 37
        }
      ]
    },
    {
      "cell_type": "code",
      "metadata": {
        "id": "_o4YAzXbwPYn",
        "colab_type": "code",
        "colab": {
          "base_uri": "https://localhost:8080/",
          "height": 34
        },
        "outputId": "d5591b64-60fb-4a16-e6e6-8b652aa51575"
      },
      "source": [
        "train_data_final = train_final.drop('Traffic_Condition', axis=1)\n",
        "target_final = train_final['Traffic_Condition']\n",
        "train_data_final.shape, target_final.shape"
      ],
      "execution_count": null,
      "outputs": [
        {
          "output_type": "execute_result",
          "data": {
            "text/plain": [
              "((5831, 7), (5831,))"
            ]
          },
          "metadata": {
            "tags": []
          },
          "execution_count": 38
        }
      ]
    },
    {
      "cell_type": "code",
      "metadata": {
        "id": "VCJ52N0ZRbWO",
        "colab_type": "code",
        "colab": {
          "base_uri": "https://localhost:8080/",
          "height": 255
        },
        "outputId": "45613d9b-54c9-40d6-eef8-0970062747e7"
      },
      "source": [
        "train_data_final.info()"
      ],
      "execution_count": null,
      "outputs": [
        {
          "output_type": "stream",
          "text": [
            "<class 'pandas.core.frame.DataFrame'>\n",
            "RangeIndex: 5831 entries, 0 to 5830\n",
            "Data columns (total 7 columns):\n",
            " #   Column         Non-Null Count  Dtype  \n",
            "---  ------         --------------  -----  \n",
            " 0   year           5831 non-null   int64  \n",
            " 1   month          5831 non-null   int64  \n",
            " 2   day            5831 non-null   int64  \n",
            " 3   Time_Slot      5831 non-null   int64  \n",
            " 4   Bus_Stopase    5831 non-null   int64  \n",
            " 5   Duration_Time  5831 non-null   float64\n",
            " 6   No_of_vechile  5831 non-null   float64\n",
            "dtypes: float64(2), int64(5)\n",
            "memory usage: 319.0 KB\n"
          ],
          "name": "stdout"
        }
      ]
    },
    {
      "cell_type": "code",
      "metadata": {
        "id": "Zt-RZ2uITqz7",
        "colab_type": "code",
        "colab": {
          "base_uri": "https://localhost:8080/",
          "height": 119
        },
        "outputId": "39624e6d-d7e9-4001-823c-79ce11e42795"
      },
      "source": [
        "target_final.head()"
      ],
      "execution_count": null,
      "outputs": [
        {
          "output_type": "execute_result",
          "data": {
            "text/plain": [
              "0    0.0\n",
              "1    1.0\n",
              "2    0.0\n",
              "3    0.0\n",
              "4    0.0\n",
              "Name: Traffic_Condition, dtype: float64"
            ]
          },
          "metadata": {
            "tags": []
          },
          "execution_count": 40
        }
      ]
    },
    {
      "cell_type": "code",
      "metadata": {
        "id": "lGmkOJNAwknP",
        "colab_type": "code",
        "colab": {
          "base_uri": "https://localhost:8080/",
          "height": 1000
        },
        "outputId": "996c7da5-f4dc-4d20-cc8b-93792d2a6719"
      },
      "source": [
        "pd.set_option('display.max_rows',None)\n",
        "from sklearn.model_selection import train_test_split\n",
        "\n",
        "X_train, X_test, Y_train, Y_test = train_test_split(train_data_final, target_final, test_size=.30, random_state=5)\n",
        "print(\"X_train: \", X_train.shape)\n",
        "print(\"X_test: \", X_test.shape)\n",
        "print(\"y_train: \", Y_train.shape)\n",
        "print(\"y_test: \", Y_test.shape)\n",
        "print(Y_test)"
      ],
      "execution_count": null,
      "outputs": [
        {
          "output_type": "stream",
          "text": [
            "X_train:  (4081, 7)\n",
            "X_test:  (1750, 7)\n",
            "y_train:  (4081,)\n",
            "y_test:  (1750,)\n",
            "5689    1.0\n",
            "757     0.0\n",
            "4154    1.0\n",
            "3473    0.0\n",
            "5354    0.0\n",
            "5457    1.0\n",
            "2084    1.0\n",
            "1769    1.0\n",
            "564     0.0\n",
            "31      1.0\n",
            "4956    1.0\n",
            "3589    0.0\n",
            "2892    0.0\n",
            "51      1.0\n",
            "1069    1.0\n",
            "3713    0.0\n",
            "3335    0.0\n",
            "5165    1.0\n",
            "489     1.0\n",
            "4216    1.0\n",
            "3959    1.0\n",
            "1184    1.0\n",
            "2320    1.0\n",
            "2097    1.0\n",
            "3357    0.0\n",
            "1333    1.0\n",
            "848     0.0\n",
            "3869    1.0\n",
            "4634    1.0\n",
            "4164    0.0\n",
            "710     0.0\n",
            "1499    0.0\n",
            "814     1.0\n",
            "5378    1.0\n",
            "2683    0.0\n",
            "720     1.0\n",
            "5502    1.0\n",
            "336     1.0\n",
            "2651    1.0\n",
            "2242    1.0\n",
            "5531    1.0\n",
            "1713    1.0\n",
            "4459    1.0\n",
            "1948    0.0\n",
            "386     1.0\n",
            "2454    1.0\n",
            "2321    1.0\n",
            "4638    1.0\n",
            "792     1.0\n",
            "651     1.0\n",
            "2882    0.0\n",
            "1089    1.0\n",
            "2639    1.0\n",
            "5524    0.0\n",
            "2777    0.0\n",
            "2819    1.0\n",
            "1904    1.0\n",
            "2109    1.0\n",
            "3072    1.0\n",
            "2761    0.0\n",
            "2984    1.0\n",
            "5134    1.0\n",
            "5606    0.0\n",
            "30      1.0\n",
            "2951    1.0\n",
            "4322    0.0\n",
            "2158    0.0\n",
            "2244    0.0\n",
            "2902    1.0\n",
            "2246    1.0\n",
            "4134    0.0\n",
            "2360    1.0\n",
            "425     1.0\n",
            "238     1.0\n",
            "467     1.0\n",
            "3019    1.0\n",
            "5467    1.0\n",
            "5212    1.0\n",
            "5090    1.0\n",
            "869     0.0\n",
            "1066    1.0\n",
            "1532    0.0\n",
            "5254    1.0\n",
            "4027    0.0\n",
            "5239    1.0\n",
            "580     1.0\n",
            "1951    1.0\n",
            "5790    0.0\n",
            "4568    1.0\n",
            "3532    0.0\n",
            "3058    1.0\n",
            "5138    1.0\n",
            "1271    0.0\n",
            "3049    1.0\n",
            "2141    0.0\n",
            "4211    1.0\n",
            "4569    0.0\n",
            "2356    1.0\n",
            "5126    1.0\n",
            "3908    1.0\n",
            "1760    1.0\n",
            "5164    0.0\n",
            "3801    1.0\n",
            "5413    0.0\n",
            "3279    1.0\n",
            "2514    0.0\n",
            "3492    1.0\n",
            "1183    1.0\n",
            "4756    1.0\n",
            "5764    1.0\n",
            "2020    1.0\n",
            "3813    0.0\n",
            "2693    0.0\n",
            "3642    0.0\n",
            "5747    1.0\n",
            "4260    1.0\n",
            "3402    0.0\n",
            "1931    1.0\n",
            "5427    1.0\n",
            "4591    0.0\n",
            "3645    1.0\n",
            "4449    0.0\n",
            "261     1.0\n",
            "2361    0.0\n",
            "4744    1.0\n",
            "4212    1.0\n",
            "2583    0.0\n",
            "4656    1.0\n",
            "586     0.0\n",
            "2298    1.0\n",
            "3752    1.0\n",
            "3054    1.0\n",
            "1865    1.0\n",
            "2520    0.0\n",
            "5744    0.0\n",
            "3133    1.0\n",
            "1805    1.0\n",
            "833     0.0\n",
            "4432    1.0\n",
            "4607    0.0\n",
            "4073    1.0\n",
            "626     0.0\n",
            "4439    1.0\n",
            "4264    1.0\n",
            "153     1.0\n",
            "1351    1.0\n",
            "2442    1.0\n",
            "2375    0.0\n",
            "4447    0.0\n",
            "5043    1.0\n",
            "2137    1.0\n",
            "735     1.0\n",
            "4529    1.0\n",
            "2195    1.0\n",
            "1994    1.0\n",
            "2617    1.0\n",
            "5040    0.0\n",
            "5454    1.0\n",
            "1308    0.0\n",
            "2730    1.0\n",
            "3678    0.0\n",
            "1895    1.0\n",
            "980     1.0\n",
            "2373    1.0\n",
            "1985    1.0\n",
            "33      1.0\n",
            "601     0.0\n",
            "3540    1.0\n",
            "3362    1.0\n",
            "953     1.0\n",
            "1047    1.0\n",
            "96      1.0\n",
            "3210    0.0\n",
            "3323    0.0\n",
            "1538    1.0\n",
            "3726    0.0\n",
            "1313    1.0\n",
            "5073    1.0\n",
            "5664    0.0\n",
            "1151    0.0\n",
            "2002    1.0\n",
            "2717    1.0\n",
            "4926    1.0\n",
            "958     0.0\n",
            "1472    0.0\n",
            "1326    1.0\n",
            "4725    0.0\n",
            "3008    0.0\n",
            "5663    0.0\n",
            "4891    1.0\n",
            "4522    1.0\n",
            "2431    1.0\n",
            "529     1.0\n",
            "2095    1.0\n",
            "5632    1.0\n",
            "3643    0.0\n",
            "2571    1.0\n",
            "1952    0.0\n",
            "5451    1.0\n",
            "2124    0.0\n",
            "3729    1.0\n",
            "3379    1.0\n",
            "2960    1.0\n",
            "5396    1.0\n",
            "2662    1.0\n",
            "1290    1.0\n",
            "5417    0.0\n",
            "2348    0.0\n",
            "2466    0.0\n",
            "2308    1.0\n",
            "5757    1.0\n",
            "2931    0.0\n",
            "5712    1.0\n",
            "524     1.0\n",
            "4990    0.0\n",
            "526     0.0\n",
            "5534    0.0\n",
            "1105    0.0\n",
            "2422    0.0\n",
            "3630    1.0\n",
            "3549    0.0\n",
            "54      0.0\n",
            "5132    1.0\n",
            "5382    1.0\n",
            "2705    1.0\n",
            "4806    0.0\n",
            "1736    0.0\n",
            "2967    1.0\n",
            "541     0.0\n",
            "2327    0.0\n",
            "3489    0.0\n",
            "1623    0.0\n",
            "2670    1.0\n",
            "1293    1.0\n",
            "47      1.0\n",
            "1938    0.0\n",
            "2465    1.0\n",
            "4454    0.0\n",
            "4094    0.0\n",
            "2139    1.0\n",
            "4108    0.0\n",
            "947     1.0\n",
            "3916    1.0\n",
            "5753    0.0\n",
            "4534    0.0\n",
            "3679    0.0\n",
            "249     0.0\n",
            "318     0.0\n",
            "809     1.0\n",
            "2775    0.0\n",
            "4567    1.0\n",
            "2457    1.0\n",
            "475     0.0\n",
            "2235    0.0\n",
            "4515    1.0\n",
            "1857    1.0\n",
            "1716    1.0\n",
            "5824    0.0\n",
            "2008    0.0\n",
            "2955    1.0\n",
            "189     0.0\n",
            "5517    1.0\n",
            "1353    1.0\n",
            "3043    1.0\n",
            "4716    0.0\n",
            "928     1.0\n",
            "1559    1.0\n",
            "1072    1.0\n",
            "2620    1.0\n",
            "3681    1.0\n",
            "1958    1.0\n",
            "49      1.0\n",
            "3966    1.0\n",
            "1465    1.0\n",
            "3260    1.0\n",
            "5554    1.0\n",
            "3624    1.0\n",
            "4608    1.0\n",
            "4533    0.0\n",
            "3081    0.0\n",
            "883     1.0\n",
            "5199    1.0\n",
            "4663    1.0\n",
            "5381    0.0\n",
            "2183    1.0\n",
            "2581    0.0\n",
            "4307    0.0\n",
            "4231    1.0\n",
            "3883    0.0\n",
            "5814    1.0\n",
            "2354    1.0\n",
            "4648    0.0\n",
            "1764    0.0\n",
            "315     1.0\n",
            "101     0.0\n",
            "1357    1.0\n",
            "4043    0.0\n",
            "628     0.0\n",
            "685     0.0\n",
            "890     1.0\n",
            "2795    1.0\n",
            "1478    0.0\n",
            "2400    1.0\n",
            "4901    1.0\n",
            "5607    1.0\n",
            "3533    1.0\n",
            "4953    1.0\n",
            "222     1.0\n",
            "2478    1.0\n",
            "1445    1.0\n",
            "4503    1.0\n",
            "2661    0.0\n",
            "5308    0.0\n",
            "4067    1.0\n",
            "3129    0.0\n",
            "3292    1.0\n",
            "3632    1.0\n",
            "1419    0.0\n",
            "2130    1.0\n",
            "5039    0.0\n",
            "5759    1.0\n",
            "3805    1.0\n",
            "5515    1.0\n",
            "4861    1.0\n",
            "4374    0.0\n",
            "3021    1.0\n",
            "5431    1.0\n",
            "64      1.0\n",
            "405     1.0\n",
            "4747    0.0\n",
            "857     1.0\n",
            "2733    1.0\n",
            "3575    1.0\n",
            "887     0.0\n",
            "242     1.0\n",
            "152     1.0\n",
            "4804    0.0\n",
            "2364    0.0\n",
            "5346    1.0\n",
            "608     0.0\n",
            "5702    0.0\n",
            "5640    1.0\n",
            "968     1.0\n",
            "4908    1.0\n",
            "728     1.0\n",
            "2956    1.0\n",
            "3317    0.0\n",
            "2236    1.0\n",
            "940     0.0\n",
            "4403    1.0\n",
            "1845    1.0\n",
            "3141    1.0\n",
            "4388    1.0\n",
            "5761    0.0\n",
            "3761    1.0\n",
            "4872    1.0\n",
            "2044    1.0\n",
            "4895    0.0\n",
            "3882    1.0\n",
            "4579    0.0\n",
            "4021    0.0\n",
            "4250    1.0\n",
            "5299    1.0\n",
            "1645    1.0\n",
            "5631    0.0\n",
            "966     0.0\n",
            "2156    0.0\n",
            "1553    1.0\n",
            "1439    1.0\n",
            "4599    0.0\n",
            "4709    1.0\n",
            "2315    1.0\n",
            "2249    0.0\n",
            "3266    1.0\n",
            "1108    0.0\n",
            "2278    1.0\n",
            "5656    1.0\n",
            "3036    1.0\n",
            "191     1.0\n",
            "1847    1.0\n",
            "3847    0.0\n",
            "4615    0.0\n",
            "2576    0.0\n",
            "1267    0.0\n",
            "4390    1.0\n",
            "3274    1.0\n",
            "27      1.0\n",
            "491     1.0\n",
            "1944    0.0\n",
            "3496    1.0\n",
            "3140    0.0\n",
            "3092    1.0\n",
            "457     1.0\n",
            "3970    1.0\n",
            "1431    1.0\n",
            "1583    0.0\n",
            "1660    0.0\n",
            "4794    0.0\n",
            "4852    1.0\n",
            "4548    0.0\n",
            "1288    0.0\n",
            "4885    1.0\n",
            "3743    0.0\n",
            "2782    1.0\n",
            "3723    0.0\n",
            "84      0.0\n",
            "1451    1.0\n",
            "3769    0.0\n",
            "5535    1.0\n",
            "4116    1.0\n",
            "1186    0.0\n",
            "3039    0.0\n",
            "755     0.0\n",
            "3573    1.0\n",
            "5253    1.0\n",
            "2474    0.0\n",
            "1894    1.0\n",
            "1476    1.0\n",
            "3554    1.0\n",
            "419     0.0\n",
            "4554    1.0\n",
            "3134    0.0\n",
            "2146    1.0\n",
            "3844    0.0\n",
            "2751    1.0\n",
            "2880    0.0\n",
            "5236    1.0\n",
            "963     1.0\n",
            "279     1.0\n",
            "1867    1.0\n",
            "3230    1.0\n",
            "5102    1.0\n",
            "2251    0.0\n",
            "4697    1.0\n",
            "743     1.0\n",
            "3867    1.0\n",
            "656     1.0\n",
            "2714    1.0\n",
            "265     1.0\n",
            "2192    0.0\n",
            "5730    1.0\n",
            "2592    1.0\n",
            "5639    0.0\n",
            "2164    1.0\n",
            "4673    1.0\n",
            "453     0.0\n",
            "784     1.0\n",
            "4844    0.0\n",
            "1933    0.0\n",
            "5280    0.0\n",
            "3687    1.0\n",
            "1803    1.0\n",
            "5572    1.0\n",
            "3649    1.0\n",
            "4169    0.0\n",
            "4617    1.0\n",
            "362     1.0\n",
            "3889    1.0\n",
            "3901    0.0\n",
            "4941    0.0\n",
            "978     1.0\n",
            "4751    0.0\n",
            "3720    0.0\n",
            "2812    1.0\n",
            "178     1.0\n",
            "5207    0.0\n",
            "2669    1.0\n",
            "1761    1.0\n",
            "4032    1.0\n",
            "3198    0.0\n",
            "4695    0.0\n",
            "1970    0.0\n",
            "2303    1.0\n",
            "4527    1.0\n",
            "1738    1.0\n",
            "3165    0.0\n",
            "576     1.0\n",
            "3887    1.0\n",
            "4464    1.0\n",
            "4313    0.0\n",
            "2818    1.0\n",
            "3093    0.0\n",
            "5456    0.0\n",
            "2155    1.0\n",
            "3556    1.0\n",
            "2219    1.0\n",
            "3510    1.0\n",
            "2179    1.0\n",
            "4377    1.0\n",
            "1537    0.0\n",
            "2159    1.0\n",
            "5078    1.0\n",
            "782     1.0\n",
            "3958    0.0\n",
            "5261    1.0\n",
            "3023    1.0\n",
            "1896    0.0\n",
            "5661    0.0\n",
            "4954    0.0\n",
            "4839    1.0\n",
            "4274    1.0\n",
            "5120    0.0\n",
            "3989    1.0\n",
            "3391    1.0\n",
            "2611    1.0\n",
            "4670    0.0\n",
            "4814    1.0\n",
            "5519    0.0\n",
            "2851    0.0\n",
            "1663    0.0\n",
            "67      1.0\n",
            "775     1.0\n",
            "2439    1.0\n",
            "2473    0.0\n",
            "4009    0.0\n",
            "4710    1.0\n",
            "3159    0.0\n",
            "2742    1.0\n",
            "4123    1.0\n",
            "4854    0.0\n",
            "3283    1.0\n",
            "2599    0.0\n",
            "40      0.0\n",
            "4466    1.0\n",
            "4093    1.0\n",
            "5789    1.0\n",
            "2301    0.0\n",
            "4376    1.0\n",
            "2420    0.0\n",
            "5147    1.0\n",
            "5234    1.0\n",
            "3892    0.0\n",
            "4764    0.0\n",
            "4871    0.0\n",
            "5610    1.0\n",
            "1702    0.0\n",
            "4444    1.0\n",
            "1821    1.0\n",
            "1098    1.0\n",
            "2283    1.0\n",
            "2528    1.0\n",
            "1367    1.0\n",
            "111     1.0\n",
            "206     1.0\n",
            "5284    0.0\n",
            "1936    1.0\n",
            "4380    1.0\n",
            "482     0.0\n",
            "2340    1.0\n",
            "2673    1.0\n",
            "2256    0.0\n",
            "1474    0.0\n",
            "5390    0.0\n",
            "3268    1.0\n",
            "3810    0.0\n",
            "945     1.0\n",
            "667     1.0\n",
            "3832    1.0\n",
            "1745    1.0\n",
            "1497    1.0\n",
            "136     1.0\n",
            "2132    0.0\n",
            "2743    1.0\n",
            "5267    0.0\n",
            "960     0.0\n",
            "4727    0.0\n",
            "1343    1.0\n",
            "138     1.0\n",
            "4705    0.0\n",
            "1705    1.0\n",
            "4238    0.0\n",
            "1110    0.0\n",
            "5603    1.0\n",
            "424     1.0\n",
            "4462    0.0\n",
            "5491    1.0\n",
            "2995    1.0\n",
            "369     0.0\n",
            "815     0.0\n",
            "2049    0.0\n",
            "957     1.0\n",
            "5567    0.0\n",
            "5483    1.0\n",
            "4008    1.0\n",
            "534     1.0\n",
            "2755    1.0\n",
            "2318    0.0\n",
            "468     1.0\n",
            "3186    1.0\n",
            "4588    1.0\n",
            "5574    1.0\n",
            "1268    1.0\n",
            "5591    1.0\n",
            "4061    1.0\n",
            "4285    1.0\n",
            "4992    0.0\n",
            "1752    0.0\n",
            "5560    0.0\n",
            "1513    0.0\n",
            "3062    0.0\n",
            "2432    1.0\n",
            "3423    1.0\n",
            "4610    1.0\n",
            "3872    0.0\n",
            "3696    1.0\n",
            "1092    1.0\n",
            "1550    1.0\n",
            "3619    0.0\n",
            "4204    1.0\n",
            "2455    0.0\n",
            "1207    1.0\n",
            "2879    1.0\n",
            "4046    1.0\n",
            "2065    1.0\n",
            "3812    1.0\n",
            "169     1.0\n",
            "1456    0.0\n",
            "4676    0.0\n",
            "569     0.0\n",
            "3245    0.0\n",
            "2800    1.0\n",
            "2896    1.0\n",
            "2844    1.0\n",
            "4304    1.0\n",
            "4175    1.0\n",
            "5453    0.0\n",
            "791     1.0\n",
            "4602    0.0\n",
            "340     1.0\n",
            "5570    0.0\n",
            "5788    0.0\n",
            "1879    1.0\n",
            "5616    1.0\n",
            "3807    0.0\n",
            "2196    0.0\n",
            "5206    1.0\n",
            "3647    1.0\n",
            "1315    0.0\n",
            "4165    0.0\n",
            "1       1.0\n",
            "375     1.0\n",
            "4922    0.0\n",
            "350     1.0\n",
            "3965    0.0\n",
            "4951    1.0\n",
            "4539    1.0\n",
            "4259    1.0\n",
            "314     1.0\n",
            "4240    1.0\n",
            "1734    1.0\n",
            "1349    1.0\n",
            "4399    1.0\n",
            "498     1.0\n",
            "1828    0.0\n",
            "3047    0.0\n",
            "417     1.0\n",
            "3657    0.0\n",
            "2612    1.0\n",
            "1900    1.0\n",
            "181     1.0\n",
            "1566    0.0\n",
            "1562    1.0\n",
            "3765    1.0\n",
            "2165    1.0\n",
            "3734    1.0\n",
            "2798    1.0\n",
            "3259    0.0\n",
            "2579    1.0\n",
            "5045    1.0\n",
            "1454    0.0\n",
            "2370    0.0\n",
            "902     0.0\n",
            "909     1.0\n",
            "2677    1.0\n",
            "5227    1.0\n",
            "1781    0.0\n",
            "5380    1.0\n",
            "1830    1.0\n",
            "2584    1.0\n",
            "2153    1.0\n",
            "2908    1.0\n",
            "5034    0.0\n",
            "934     0.0\n",
            "391     0.0\n",
            "5320    1.0\n",
            "3976    0.0\n",
            "3407    1.0\n",
            "3098    0.0\n",
            "413     1.0\n",
            "2723    1.0\n",
            "3447    0.0\n",
            "4081    1.0\n",
            "1323    0.0\n",
            "1279    0.0\n",
            "458     0.0\n",
            "2151    1.0\n",
            "1778    1.0\n",
            "1228    0.0\n",
            "2476    1.0\n",
            "4752    0.0\n",
            "3188    0.0\n",
            "3284    1.0\n",
            "309     1.0\n",
            "5389    0.0\n",
            "976     0.0\n",
            "3607    0.0\n",
            "640     1.0\n",
            "767     1.0\n",
            "3873    0.0\n",
            "2098    0.0\n",
            "1816    1.0\n",
            "2785    0.0\n",
            "5796    0.0\n",
            "2217    0.0\n",
            "2133    1.0\n",
            "5830    0.0\n",
            "5205    0.0\n",
            "849     1.0\n",
            "1598    0.0\n",
            "3158    0.0\n",
            "5020    0.0\n",
            "3674    0.0\n",
            "5571    1.0\n",
            "5444    0.0\n",
            "675     0.0\n",
            "3028    1.0\n",
            "3300    1.0\n",
            "1848    1.0\n",
            "4820    1.0\n",
            "3922    0.0\n",
            "2616    1.0\n",
            "3507    1.0\n",
            "1498    0.0\n",
            "5469    1.0\n",
            "1902    1.0\n",
            "1398    0.0\n",
            "2547    0.0\n",
            "4668    1.0\n",
            "5041    0.0\n",
            "559     1.0\n",
            "2650    1.0\n",
            "769     1.0\n",
            "983     1.0\n",
            "1020    1.0\n",
            "4035    1.0\n",
            "2968    1.0\n",
            "532     1.0\n",
            "3598    1.0\n",
            "4498    1.0\n",
            "4040    0.0\n",
            "75      1.0\n",
            "5059    1.0\n",
            "1500    1.0\n",
            "5348    1.0\n",
            "2435    1.0\n",
            "4489    0.0\n",
            "1856    1.0\n",
            "1035    1.0\n",
            "1751    1.0\n",
            "4373    1.0\n",
            "3698    1.0\n",
            "843     1.0\n",
            "4717    1.0\n",
            "225     1.0\n",
            "3453    1.0\n",
            "1282    1.0\n",
            "1423    0.0\n",
            "517     1.0\n",
            "227     0.0\n",
            "3388    1.0\n",
            "1485    0.0\n",
            "4879    1.0\n",
            "4878    0.0\n",
            "1722    1.0\n",
            "2658    1.0\n",
            "1025    1.0\n",
            "3269    1.0\n",
            "4481    1.0\n",
            "4740    0.0\n",
            "4787    1.0\n",
            "4886    0.0\n",
            "3821    1.0\n",
            "2496    0.0\n",
            "3701    0.0\n",
            "1920    1.0\n",
            "805     0.0\n",
            "5211    1.0\n",
            "3221    0.0\n",
            "3561    1.0\n",
            "1621    1.0\n",
            "5548    1.0\n",
            "2068    1.0\n",
            "4707    1.0\n",
            "5537    1.0\n",
            "5107    1.0\n",
            "1813    1.0\n",
            "674     1.0\n",
            "3741    1.0\n",
            "3289    0.0\n",
            "2994    1.0\n",
            "2440    1.0\n",
            "1484    1.0\n",
            "5500    0.0\n",
            "5371    1.0\n",
            "3474    0.0\n",
            "4609    0.0\n",
            "1925    1.0\n",
            "1276    1.0\n",
            "2188    1.0\n",
            "3136    1.0\n",
            "207     0.0\n",
            "2446    1.0\n",
            "5746    1.0\n",
            "1486    1.0\n",
            "3144    0.0\n",
            "1717    1.0\n",
            "4788    0.0\n",
            "1986    1.0\n",
            "4017    0.0\n",
            "2342    1.0\n",
            "177     1.0\n",
            "584     1.0\n",
            "2936    0.0\n",
            "547     0.0\n",
            "1774    1.0\n",
            "5600    1.0\n",
            "5074    1.0\n",
            "4100    1.0\n",
            "3184    0.0\n",
            "3626    1.0\n",
            "5328    1.0\n",
            "1134    1.0\n",
            "1919    1.0\n",
            "1296    1.0\n",
            "594     0.0\n",
            "4583    1.0\n",
            "3699    1.0\n",
            "3324    0.0\n",
            "2527    0.0\n",
            "3109    1.0\n",
            "0       0.0\n",
            "5410    1.0\n",
            "2907    1.0\n",
            "3913    1.0\n",
            "5001    0.0\n",
            "563     0.0\n",
            "2481    0.0\n",
            "2932    0.0\n",
            "5386    0.0\n",
            "5767    1.0\n",
            "1203    1.0\n",
            "3367    0.0\n",
            "1384    0.0\n",
            "4746    1.0\n",
            "3881    1.0\n",
            "1154    1.0\n",
            "302     1.0\n",
            "3664    0.0\n",
            "285     1.0\n",
            "5629    1.0\n",
            "3716    1.0\n",
            "4877    0.0\n",
            "76      1.0\n",
            "2515    1.0\n",
            "771     0.0\n",
            "4711    1.0\n",
            "3552    1.0\n",
            "2391    1.0\n",
            "195     0.0\n",
            "4664    1.0\n",
            "1633    0.0\n",
            "5156    0.0\n",
            "4680    0.0\n",
            "4811    1.0\n",
            "1827    1.0\n",
            "671     1.0\n",
            "3435    1.0\n",
            "2386    1.0\n",
            "578     0.0\n",
            "2234    0.0\n",
            "1350    1.0\n",
            "2225    1.0\n",
            "3715    0.0\n",
            "3479    1.0\n",
            "3372    0.0\n",
            "3603    1.0\n",
            "1614    1.0\n",
            "1340    1.0\n",
            "1545    0.0\n",
            "1009    1.0\n",
            "5091    1.0\n",
            "1642    1.0\n",
            "2013    0.0\n",
            "2695    1.0\n",
            "816     1.0\n",
            "2887    0.0\n",
            "4641    1.0\n",
            "2468    0.0\n",
            "163     1.0\n",
            "2203    1.0\n",
            "2408    0.0\n",
            "855     0.0\n",
            "3599    0.0\n",
            "1081    1.0\n",
            "353     0.0\n",
            "3393    1.0\n",
            "2829    1.0\n",
            "5287    0.0\n",
            "3688    0.0\n",
            "4075    1.0\n",
            "944     1.0\n",
            "2749    0.0\n",
            "149     1.0\n",
            "194     0.0\n",
            "1436    1.0\n",
            "5687    0.0\n",
            "3037    0.0\n",
            "1266    1.0\n",
            "2030    1.0\n",
            "2929    1.0\n",
            "5734    1.0\n",
            "5421    1.0\n",
            "286     0.0\n",
            "2023    1.0\n",
            "2470    0.0\n",
            "2857    1.0\n",
            "2559    0.0\n",
            "2102    1.0\n",
            "2607    1.0\n",
            "4098    1.0\n",
            "4683    1.0\n",
            "3767    1.0\n",
            "3251    1.0\n",
            "1914    1.0\n",
            "5587    0.0\n",
            "2472    1.0\n",
            "2051    1.0\n",
            "1469    1.0\n",
            "3870    0.0\n",
            "4677    0.0\n",
            "28      0.0\n",
            "2716    0.0\n",
            "4532    1.0\n",
            "3515    1.0\n",
            "4772    0.0\n",
            "2426    0.0\n",
            "2694    0.0\n",
            "1597    1.0\n",
            "5484    1.0\n",
            "789     0.0\n",
            "5508    1.0\n",
            "444     0.0\n",
            "2946    0.0\n",
            "3461    1.0\n",
            "2706    0.0\n",
            "5646    1.0\n",
            "4538    1.0\n",
            "1168    1.0\n",
            "1980    1.0\n",
            "5672    0.0\n",
            "2969    1.0\n",
            "523     1.0\n",
            "4401    1.0\n",
            "5749    1.0\n",
            "4858    0.0\n",
            "703     1.0\n",
            "5683    1.0\n",
            "4897    1.0\n",
            "106     1.0\n",
            "1941    0.0\n",
            "4270    0.0\n",
            "3517    0.0\n",
            "938     0.0\n",
            "2453    1.0\n",
            "739     0.0\n",
            "1170    1.0\n",
            "1225    0.0\n",
            "5015    1.0\n",
            "1410    1.0\n",
            "3828    1.0\n",
            "1386    1.0\n",
            "379     1.0\n",
            "646     1.0\n",
            "3707    1.0\n",
            "4233    1.0\n",
            "2222    1.0\n",
            "875     0.0\n",
            "4082    0.0\n",
            "2331    0.0\n",
            "4417    1.0\n",
            "892     1.0\n",
            "2021    1.0\n",
            "4780    1.0\n",
            "5750    1.0\n",
            "126     0.0\n",
            "2444    1.0\n",
            "3027    1.0\n",
            "496     1.0\n",
            "2634    0.0\n",
            "5297    1.0\n",
            "1360    1.0\n",
            "4876    0.0\n",
            "148     0.0\n",
            "2054    0.0\n",
            "1309    1.0\n",
            "5294    1.0\n",
            "900     1.0\n",
            "2901    1.0\n",
            "1891    1.0\n",
            "1685    0.0\n",
            "1244    0.0\n",
            "5179    1.0\n",
            "5240    1.0\n",
            "3390    1.0\n",
            "168     1.0\n",
            "1831    1.0\n",
            "4398    1.0\n",
            "557     1.0\n",
            "3856    1.0\n",
            "4984    1.0\n",
            "264     1.0\n",
            "3218    1.0\n",
            "5445    0.0\n",
            "5782    1.0\n",
            "1156    1.0\n",
            "5398    1.0\n",
            "5450    1.0\n",
            "4947    1.0\n",
            "1546    0.0\n",
            "622     1.0\n",
            "3911    1.0\n",
            "4674    0.0\n",
            "2309    1.0\n",
            "5434    1.0\n",
            "5326    1.0\n",
            "510     1.0\n",
            "634     1.0\n",
            "3941    1.0\n",
            "2577    1.0\n",
            "1714    0.0\n",
            "2659    1.0\n",
            "1434    0.0\n",
            "4935    1.0\n",
            "1990    0.0\n",
            "901     1.0\n",
            "2786    0.0\n",
            "1576    1.0\n",
            "979     0.0\n",
            "2458    1.0\n",
            "952     1.0\n",
            "5279    1.0\n",
            "729     1.0\n",
            "3422    0.0\n",
            "1876    1.0\n",
            "637     1.0\n",
            "3312    0.0\n",
            "2945    0.0\n",
            "5183    0.0\n",
            "2191    0.0\n",
            "4827    0.0\n",
            "2701    1.0\n",
            "3697    0.0\n",
            "4050    0.0\n",
            "1157    0.0\n",
            "1062    1.0\n",
            "4402    1.0\n",
            "5405    1.0\n",
            "560     0.0\n",
            "3220    0.0\n",
            "5304    1.0\n",
            "4636    1.0\n",
            "431     1.0\n",
            "5223    1.0\n",
            "2297    1.0\n",
            "1245    1.0\n",
            "2491    0.0\n",
            "3469    1.0\n",
            "5266    1.0\n",
            "5006    0.0\n",
            "796     1.0\n",
            "619     1.0\n",
            "5051    1.0\n",
            "3200    0.0\n",
            "2768    0.0\n",
            "4456    1.0\n",
            "4282    1.0\n",
            "5097    1.0\n",
            "5437    0.0\n",
            "4933    1.0\n",
            "4902    1.0\n",
            "2368    0.0\n",
            "308     1.0\n",
            "3846    1.0\n",
            "2009    1.0\n",
            "716     0.0\n",
            "5392    0.0\n",
            "700     1.0\n",
            "406     1.0\n",
            "3155    1.0\n",
            "4407    1.0\n",
            "1712    1.0\n",
            "1823    0.0\n",
            "1444    0.0\n",
            "5811    0.0\n",
            "4217    1.0\n",
            "5361    1.0\n",
            "1563    0.0\n",
            "5309    0.0\n",
            "228     1.0\n",
            "2839    1.0\n",
            "3265    1.0\n",
            "611     0.0\n",
            "4330    1.0\n",
            "752     1.0\n",
            "5588    0.0\n",
            "2640    0.0\n",
            "4033    0.0\n",
            "416     0.0\n",
            "3923    1.0\n",
            "2083    1.0\n",
            "3817    1.0\n",
            "1564    1.0\n",
            "19      0.0\n",
            "753     0.0\n",
            "4382    0.0\n",
            "3784    1.0\n",
            "2519    0.0\n",
            "4279    1.0\n",
            "15      0.0\n",
            "4578    1.0\n",
            "2646    1.0\n",
            "2954    0.0\n",
            "378     1.0\n",
            "1628    0.0\n",
            "1881    1.0\n",
            "4343    1.0\n",
            "1272    0.0\n",
            "73      0.0\n",
            "4545    1.0\n",
            "5351    0.0\n",
            "1420    0.0\n",
            "203     1.0\n",
            "421     1.0\n",
            "248     1.0\n",
            "2157    1.0\n",
            "5829    0.0\n",
            "2460    0.0\n",
            "2927    1.0\n",
            "2190    1.0\n",
            "4627    1.0\n",
            "4332    1.0\n",
            "1773    0.0\n",
            "3791    1.0\n",
            "3662    1.0\n",
            "4875    0.0\n",
            "697     0.0\n",
            "5565    1.0\n",
            "2638    1.0\n",
            "4480    1.0\n",
            "3495    1.0\n",
            "4958    1.0\n",
            "5688    1.0\n",
            "3157    1.0\n",
            "3282    1.0\n",
            "5459    1.0\n",
            "673     1.0\n",
            "3380    0.0\n",
            "3196    0.0\n",
            "5786    1.0\n",
            "3571    1.0\n",
            "1514    0.0\n",
            "2433    1.0\n",
            "2150    0.0\n",
            "1039    1.0\n",
            "3386    0.0\n",
            "3868    0.0\n",
            "1096    1.0\n",
            "2560    1.0\n",
            "4139    0.0\n",
            "1653    0.0\n",
            "201     1.0\n",
            "5551    1.0\n",
            "785     1.0\n",
            "2664    1.0\n",
            "2953    1.0\n",
            "9       1.0\n",
            "2609    1.0\n",
            "678     0.0\n",
            "2740    1.0\n",
            "2998    1.0\n",
            "278     1.0\n",
            "1213    1.0\n",
            "5117    1.0\n",
            "786     1.0\n",
            "2973    1.0\n",
            "3212    0.0\n",
            "4371    1.0\n",
            "3999    1.0\n",
            "3364    1.0\n",
            "3084    0.0\n",
            "5477    1.0\n",
            "3229    0.0\n",
            "3758    0.0\n",
            "650     0.0\n",
            "5357    0.0\n",
            "4889    1.0\n",
            "1307    1.0\n",
            "2089    1.0\n",
            "1393    0.0\n",
            "2813    1.0\n",
            "3521    0.0\n",
            "3437    0.0\n",
            "2570    1.0\n",
            "267     0.0\n",
            "5648    0.0\n",
            "3306    0.0\n",
            "3291    1.0\n",
            "3836    1.0\n",
            "2035    0.0\n",
            "2198    1.0\n",
            "1648    0.0\n",
            "4520    1.0\n",
            "1415    0.0\n",
            "4262    1.0\n",
            "3831    1.0\n",
            "2562    1.0\n",
            "2846    0.0\n",
            "5693    0.0\n",
            "589     0.0\n",
            "4815    0.0\n",
            "481     0.0\n",
            "5585    0.0\n",
            "4542    0.0\n",
            "454     1.0\n",
            "4952    1.0\n",
            "5161    1.0\n",
            "2760    1.0\n",
            "5460    1.0\n",
            "5053    1.0\n",
            "1114    1.0\n",
            "2345    0.0\n",
            "3077    0.0\n",
            "2430    1.0\n",
            "356     0.0\n",
            "1791    0.0\n",
            "5539    0.0\n",
            "5717    1.0\n",
            "2992    1.0\n",
            "4055    0.0\n",
            "4846    0.0\n",
            "2402    1.0\n",
            "4105    1.0\n",
            "5684    1.0\n",
            "1190    1.0\n",
            "3416    0.0\n",
            "2783    0.0\n",
            "1163    1.0\n",
            "4509    1.0\n",
            "4849    0.0\n",
            "3428    1.0\n",
            "2328    0.0\n",
            "4078    0.0\n",
            "3045    1.0\n",
            "690     1.0\n",
            "746     0.0\n",
            "3601    0.0\n",
            "3925    1.0\n",
            "2233    1.0\n",
            "4491    0.0\n",
            "1292    1.0\n",
            "2291    1.0\n",
            "1330    1.0\n",
            "4378    1.0\n",
            "1021    1.0\n",
            "4166    1.0\n",
            "1422    0.0\n",
            "3429    1.0\n",
            "5793    0.0\n",
            "317     1.0\n",
            "4301    1.0\n",
            "89      1.0\n",
            "4672    1.0\n",
            "1195    1.0\n",
            "3815    0.0\n",
            "793     1.0\n",
            "599     0.0\n",
            "2288    1.0\n",
            "1963    0.0\n",
            "5545    0.0\n",
            "1496    0.0\n",
            "150     1.0\n",
            "5642    0.0\n",
            "726     1.0\n",
            "3256    0.0\n",
            "5057    1.0\n",
            "1790    1.0\n",
            "1036    1.0\n",
            "3894    0.0\n",
            "1799    0.0\n",
            "240     1.0\n",
            "1804    1.0\n",
            "87      1.0\n",
            "4222    1.0\n",
            "665     0.0\n",
            "1010    1.0\n",
            "1222    1.0\n",
            "2732    1.0\n",
            "342     0.0\n",
            "3787    0.0\n",
            "3760    1.0\n",
            "2540    0.0\n",
            "4640    0.0\n",
            "1801    1.0\n",
            "884     1.0\n",
            "1024    1.0\n",
            "1878    1.0\n",
            "3938    1.0\n",
            "1977    0.0\n",
            "4171    0.0\n",
            "3546    1.0\n",
            "3799    1.0\n",
            "4962    1.0\n",
            "4141    1.0\n",
            "4859    1.0\n",
            "2905    1.0\n",
            "151     1.0\n",
            "209     0.0\n",
            "2261    1.0\n",
            "691     1.0\n",
            "4943    1.0\n",
            "3637    0.0\n",
            "5024    1.0\n",
            "2347    0.0\n",
            "2629    1.0\n",
            "1291    0.0\n",
            "5701    1.0\n",
            "698     0.0\n",
            "3466    1.0\n",
            "3224    1.0\n",
            "5511    1.0\n",
            "2654    1.0\n",
            "1242    1.0\n",
            "3627    1.0\n",
            "5070    1.0\n",
            "4475    0.0\n",
            "4770    1.0\n",
            "5715    1.0\n",
            "1252    0.0\n",
            "470     1.0\n",
            "1844    1.0\n",
            "5690    0.0\n",
            "5376    1.0\n",
            "4909    1.0\n",
            "4148    1.0\n",
            "4802    1.0\n",
            "1383    1.0\n",
            "2289    0.0\n",
            "2792    0.0\n",
            "1008    1.0\n",
            "5021    0.0\n",
            "4426    1.0\n",
            "5563    0.0\n",
            "695     0.0\n",
            "3294    0.0\n",
            "1758    1.0\n",
            "2071    1.0\n",
            "1973    1.0\n",
            "5485    1.0\n",
            "167     1.0\n",
            "4261    1.0\n",
            "3808    1.0\n",
            "3504    1.0\n",
            "79      1.0\n",
            "4696    0.0\n",
            "3855    1.0\n",
            "3666    1.0\n",
            "2899    1.0\n",
            "1981    1.0\n",
            "3708    1.0\n",
            "2788    0.0\n",
            "2274    0.0\n",
            "129     1.0\n",
            "776     0.0\n",
            "4706    0.0\n",
            "5802    0.0\n",
            "1302    1.0\n",
            "2721    1.0\n",
            "1034    1.0\n",
            "4526    0.0\n",
            "3276    1.0\n",
            "3099    0.0\n",
            "718     0.0\n",
            "5128    1.0\n",
            "1789    1.0\n",
            "4633    1.0\n",
            "3333    1.0\n",
            "4005    1.0\n",
            "1172    1.0\n",
            "2066    1.0\n",
            "141     0.0\n",
            "5333    1.0\n",
            "3395    1.0\n",
            "4917    1.0\n",
            "4278    1.0\n",
            "1930    1.0\n",
            "5260    0.0\n",
            "975     0.0\n",
            "2804    0.0\n",
            "4024    0.0\n",
            "4553    0.0\n",
            "4220    1.0\n",
            "5699    0.0\n",
            "2480    1.0\n",
            "5123    0.0\n",
            "5677    0.0\n",
            "4775    1.0\n",
            "3676    1.0\n",
            "621     0.0\n",
            "2330    1.0\n",
            "1619    1.0\n",
            "866     1.0\n",
            "5278    0.0\n",
            "1405    0.0\n",
            "65      0.0\n",
            "4596    1.0\n",
            "5449    1.0\n",
            "527     1.0\n",
            "4173    0.0\n",
            "1814    0.0\n",
            "3604    0.0\n",
            "1345    0.0\n",
            "5817    1.0\n",
            "1176    1.0\n",
            "4091    1.0\n",
            "1297    1.0\n",
            "2835    1.0\n",
            "2290    1.0\n",
            "2641    0.0\n",
            "1392    1.0\n",
            "5819    0.0\n",
            "4582    1.0\n",
            "1815    1.0\n",
            "1287    1.0\n",
            "365     0.0\n",
            "3387    1.0\n",
            "2545    1.0\n",
            "4252    1.0\n",
            "5673    0.0\n",
            "4155    0.0\n",
            "4495    1.0\n",
            "4095    0.0\n",
            "5805    0.0\n",
            "5438    1.0\n",
            "4235    0.0\n",
            "446     0.0\n",
            "3700    0.0\n",
            "565     0.0\n",
            "5709    0.0\n",
            "3910    0.0\n",
            "2779    0.0\n",
            "3014    0.0\n",
            "5423    1.0\n",
            "3337    0.0\n",
            "2852    0.0\n",
            "3257    1.0\n",
            "2304    1.0\n",
            "1556    0.0\n",
            "4758    1.0\n",
            "142     0.0\n",
            "1275    0.0\n",
            "418     1.0\n",
            "830     0.0\n",
            "4618    0.0\n",
            "889     1.0\n",
            "5298    1.0\n",
            "3131    1.0\n",
            "1218    1.0\n",
            "2675    1.0\n",
            "5229    1.0\n",
            "4620    0.0\n",
            "3148    1.0\n",
            "2702    1.0\n",
            "1662    0.0\n",
            "5241    1.0\n",
            "2790    1.0\n",
            "570     1.0\n",
            "4150    0.0\n",
            "1209    1.0\n",
            "3622    1.0\n",
            "758     1.0\n",
            "14      1.0\n",
            "5681    0.0\n",
            "5145    1.0\n",
            "3107    0.0\n",
            "641     0.0\n",
            "4628    1.0\n",
            "3671    1.0\n",
            "4408    1.0\n",
            "4463    1.0\n",
            "1073    1.0\n",
            "4076    1.0\n",
            "4254    1.0\n",
            "3430    0.0\n",
            "2976    1.0\n",
            "1886    1.0\n",
            "1509    1.0\n",
            "1371    0.0\n",
            "4083    1.0\n",
            "3004    0.0\n",
            "3417    1.0\n",
            "5636    1.0\n",
            "2841    0.0\n",
            "2043    0.0\n",
            "3420    1.0\n",
            "4837    1.0\n",
            "4441    0.0\n",
            "2903    0.0\n",
            "2649    1.0\n",
            "422     1.0\n",
            "1065    0.0\n",
            "5546    0.0\n",
            "1613    1.0\n",
            "668     1.0\n",
            "5806    0.0\n",
            "4255    0.0\n",
            "133     0.0\n",
            "1772    1.0\n",
            "1811    1.0\n",
            "5815    1.0\n",
            "911     1.0\n",
            "1511    0.0\n",
            "219     0.0\n",
            "4938    1.0\n",
            "2736    1.0\n",
            "5509    0.0\n",
            "5650    0.0\n",
            "4269    1.0\n",
            "1911    1.0\n",
            "955     0.0\n",
            "3344    1.0\n",
            "2628    1.0\n",
            "4358    1.0\n",
            "2619    1.0\n",
            "388     0.0\n",
            "840     0.0\n",
            "2412    0.0\n",
            "310     0.0\n",
            "2900    1.0\n",
            "2215    1.0\n",
            "2567    1.0\n",
            "2114    1.0\n",
            "571     1.0\n",
            "3170    1.0\n",
            "5752    0.0\n",
            "2103    1.0\n",
            "2861    1.0\n",
            "5442    0.0\n",
            "5637    0.0\n",
            "29      1.0\n",
            "5032    1.0\n",
            "5823    0.0\n",
            "2737    1.0\n",
            "5696    0.0\n",
            "5799    1.0\n",
            "824     0.0\n",
            "232     0.0\n",
            "5671    1.0\n",
            "97      1.0\n",
            "1922    1.0\n",
            "1526    1.0\n",
            "4084    1.0\n",
            "1658    0.0\n",
            "5168    1.0\n",
            "1482    1.0\n",
            "86      0.0\n",
            "3409    0.0\n",
            "11      0.0\n",
            "3253    0.0\n",
            "4524    0.0\n",
            "3029    1.0\n",
            "600     0.0\n",
            "2423    0.0\n",
            "2262    1.0\n",
            "5584    0.0\n",
            "3772    1.0\n",
            "2923    1.0\n",
            "1059    1.0\n",
            "1248    0.0\n",
            "2565    1.0\n",
            "499     1.0\n",
            "3977    0.0\n",
            "3142    1.0\n",
            "1283    0.0\n",
            "3859    1.0\n",
            "5569    1.0\n",
            "825     0.0\n",
            "266     1.0\n",
            "2526    1.0\n",
            "3002    1.0\n",
            "592     1.0\n",
            "4566    1.0\n",
            "2715    0.0\n",
            "5602    0.0\n",
            "1262    1.0\n",
            "795     0.0\n",
            "3175    1.0\n",
            "3465    0.0\n",
            "4328    1.0\n",
            "5027    1.0\n",
            "3349    1.0\n",
            "213     1.0\n",
            "1718    1.0\n",
            "1872    1.0\n",
            "4659    1.0\n",
            "179     1.0\n",
            "623     0.0\n",
            "4266    0.0\n",
            "4409    1.0\n",
            "3288    0.0\n",
            "401     1.0\n",
            "5153    1.0\n",
            "5555    1.0\n",
            "3354    0.0\n",
            "2239    1.0\n",
            "4622    1.0\n",
            "4012    0.0\n",
            "5062    1.0\n",
            "4729    0.0\n",
            "3942    1.0\n",
            "4671    0.0\n",
            "2381    1.0\n",
            "4174    1.0\n",
            "1314    0.0\n",
            "5374    1.0\n",
            "629     0.0\n",
            "802     1.0\n",
            "4142    1.0\n",
            "948     0.0\n",
            "3438    1.0\n",
            "5368    1.0\n",
            "865     0.0\n",
            "4500    1.0\n",
            "3576    1.0\n",
            "139     1.0\n",
            "3120    0.0\n",
            "4921    0.0\n",
            "4014    0.0\n",
            "3074    0.0\n",
            "5783    1.0\n",
            "3217    0.0\n",
            "3863    0.0\n",
            "3440    1.0\n",
            "4576    0.0\n",
            "3009    1.0\n",
            "3613    1.0\n",
            "3233    1.0\n",
            "5060    1.0\n",
            "3264    1.0\n",
            "2746    1.0\n",
            "3048    1.0\n",
            "2314    1.0\n",
            "4223    1.0\n",
            "583     0.0\n",
            "999     0.0\n",
            "1447    0.0\n",
            "2374    0.0\n",
            "722     0.0\n",
            "1961    1.0\n",
            "2756    0.0\n",
            "1402    0.0\n",
            "4550    1.0\n",
            "1074    1.0\n",
            "2106    1.0\n",
            "4586    1.0\n",
            "4355    1.0\n",
            "95      1.0\n",
            "917     0.0\n",
            "5399    1.0\n",
            "1458    1.0\n",
            "1521    1.0\n",
            "173     1.0\n",
            "2511    1.0\n",
            "1400    1.0\n",
            "4942    1.0\n",
            "1274    0.0\n",
            "2655    0.0\n",
            "2045    1.0\n",
            "3547    1.0\n",
            "325     0.0\n",
            "5406    1.0\n",
            "1077    1.0\n",
            "2323    1.0\n",
            "1655    1.0\n",
            "4969    0.0\n",
            "2816    1.0\n",
            "2597    0.0\n",
            "5154    0.0\n",
            "5221    1.0\n",
            "1128    1.0\n",
            "575     0.0\n",
            "5148    1.0\n",
            "5307    1.0\n",
            "3691    0.0\n",
            "2268    1.0\n",
            "1217    1.0\n",
            "1964    1.0\n",
            "5263    1.0\n",
            "2231    0.0\n",
            "2275    1.0\n",
            "1196    1.0\n",
            "5732    1.0\n",
            "850     1.0\n",
            "1547    1.0\n",
            "1023    1.0\n",
            "2281    1.0\n",
            "175     1.0\n",
            "5608    1.0\n",
            "3443    1.0\n",
            "1858    1.0\n",
            "2909    1.0\n",
            "714     1.0\n",
            "531     0.0\n",
            "5246    1.0\n",
            "4249    0.0\n",
            "5576    0.0\n",
            "872     1.0\n",
            "2390    1.0\n",
            "1798    0.0\n",
            "5503    0.0\n",
            "2601    1.0\n",
            "1674    0.0\n",
            "1796    1.0\n",
            "4739    1.0\n",
            "1824    0.0\n",
            "982     1.0\n",
            "1591    1.0\n",
            "3143    0.0\n",
            "4584    0.0\n",
            "5271    1.0\n",
            "2582    1.0\n",
            "1795    1.0\n",
            "3377    1.0\n",
            "2223    1.0\n",
            "3539    0.0\n",
            "818     0.0\n",
            "466     0.0\n",
            "1601    1.0\n",
            "5624    0.0\n",
            "3296    1.0\n",
            "390     1.0\n",
            "Name: Traffic_Condition, dtype: float64\n"
          ],
          "name": "stdout"
        }
      ]
    },
    {
      "cell_type": "code",
      "metadata": {
        "id": "KNlGwa9Pw5po",
        "colab_type": "code",
        "colab": {}
      },
      "source": [
        ""
      ],
      "execution_count": null,
      "outputs": []
    },
    {
      "cell_type": "code",
      "metadata": {
        "id": "TJeDIryZSCDf",
        "colab_type": "code",
        "colab": {}
      },
      "source": [
        "from sklearn.ensemble import AdaBoostClassifier\n",
        "adaboost = AdaBoostClassifier(n_estimators=100, base_estimator= None,learning_rate=0.65, random_state = 5)\n",
        "adaboost.fit(X_train,Y_train)\n",
        "Y_pred = adaboost.predict(X_test)"
      ],
      "execution_count": null,
      "outputs": []
    },
    {
      "cell_type": "code",
      "metadata": {
        "id": "16Oxw55WxoQI",
        "colab_type": "code",
        "colab": {
          "base_uri": "https://localhost:8080/",
          "height": 204
        },
        "outputId": "53fa8441-b210-41bf-88d9-bee348704a9e"
      },
      "source": [
        "from sklearn.metrics import confusion_matrix,classification_report\n",
        "print(confusion_matrix(Y_test, Y_pred))\n",
        "print(classification_report(Y_test,Y_pred))"
      ],
      "execution_count": null,
      "outputs": [
        {
          "output_type": "stream",
          "text": [
            "[[ 650    6]\n",
            " [   1 1093]]\n",
            "              precision    recall  f1-score   support\n",
            "\n",
            "         0.0       1.00      0.99      0.99       656\n",
            "         1.0       0.99      1.00      1.00      1094\n",
            "\n",
            "    accuracy                           1.00      1750\n",
            "   macro avg       1.00      0.99      1.00      1750\n",
            "weighted avg       1.00      1.00      1.00      1750\n",
            "\n"
          ],
          "name": "stdout"
        }
      ]
    },
    {
      "cell_type": "code",
      "metadata": {
        "id": "_u_4SbRjyZBJ",
        "colab_type": "code",
        "colab": {
          "base_uri": "https://localhost:8080/",
          "height": 34
        },
        "outputId": "d739f168-6ff4-40a1-c015-2d41686bac57"
      },
      "source": [
        "from sklearn.metrics import accuracy_score\n",
        "print(accuracy_score(Y_test, Y_pred)*100)"
      ],
      "execution_count": null,
      "outputs": [
        {
          "output_type": "stream",
          "text": [
            "99.6\n"
          ],
          "name": "stdout"
        }
      ]
    },
    {
      "cell_type": "code",
      "metadata": {
        "id": "iY1SFPTuyVrc",
        "colab_type": "code",
        "colab": {}
      },
      "source": [
        "y_pred_prob = adaboost.predict_proba(X_test)[:,1]"
      ],
      "execution_count": null,
      "outputs": []
    },
    {
      "cell_type": "code",
      "metadata": {
        "id": "bzup8SPuTaeE",
        "colab_type": "code",
        "colab": {
          "base_uri": "https://localhost:8080/",
          "height": 295
        },
        "outputId": "63ee56dc-330b-4d12-aed1-1f2d7914d5c5"
      },
      "source": [
        "from sklearn.metrics import roc_curve\n",
        "import matplotlib.pyplot as plt\n",
        "%matplotlib inline\n",
        "\n",
        "fpr, tpr, thresholds = roc_curve(Y_test, y_pred_prob)\n",
        "# create plot\n",
        "plt.plot(fpr, tpr, label='ROC curve')\n",
        "plt.plot([0, 1], [0, 1], 'k--', label='Random guess')\n",
        "_ = plt.xlabel('False Positive Rate')\n",
        "_ = plt.ylabel('True Positive Rate')\n",
        "_ = plt.title('ROC Curve')\n",
        "_ = plt.xlim([-0.02, 1])\n",
        "_ = plt.ylim([0, 1.02])\n",
        "_ = plt.legend(loc=\"lower right\")"
      ],
      "execution_count": null,
      "outputs": [
        {
          "output_type": "display_data",
          "data": {
            "image/png": "[encoded data removed]",
            "text/plain": [
              "<Figure size 432x288 with 1 Axes>"
            ]
          },
          "metadata": {
            "tags": [],
            "needs_background": "light"
          }
        }
      ]
    },
    {
      "cell_type": "code",
      "metadata": {
        "id": "WhjA-Pg3TjaK",
        "colab_type": "code",
        "colab": {
          "base_uri": "https://localhost:8080/",
          "height": 34
        },
        "outputId": "61e8544f-2666-4a43-8d35-48861546bf67"
      },
      "source": [
        "from sklearn.metrics import roc_auc_score\n",
        "\n",
        "roc_auc_score(Y_test, y_pred_prob)"
      ],
      "execution_count": null,
      "outputs": [
        {
          "output_type": "execute_result",
          "data": {
            "text/plain": [
              "0.9989152305257056"
            ]
          },
          "metadata": {
            "tags": []
          },
          "execution_count": 47
        }
      ]
    },
    {
      "cell_type": "code",
      "metadata": {
        "id": "ZAPTMx_2anqR",
        "colab_type": "code",
        "colab": {
          "base_uri": "https://localhost:8080/",
          "height": 34
        },
        "outputId": "f189c068-ca2d-4d89-d21c-27a050b5c87c"
      },
      "source": [
        "# IMPORTANT: first argument is true values, second argument is predicted probabilities\n",
        "from sklearn.metrics import roc_auc_score\n",
        "from sklearn import metrics\n",
        "print(metrics.roc_auc_score(Y_test, y_pred_prob))"
      ],
      "execution_count": null,
      "outputs": [
        {
          "output_type": "stream",
          "text": [
            "0.9989152305257056\n"
          ],
          "name": "stdout"
        }
      ]
    },
    {
      "cell_type": "code",
      "metadata": {
        "id": "03Brv8B3yE2_",
        "colab_type": "code",
        "colab": {
          "base_uri": "https://localhost:8080/",
          "height": 295
        },
        "outputId": "f8dc6cb4-1714-44fe-a013-f66038c6c3a9"
      },
      "source": [
        "from sklearn.metrics import precision_recall_curve \n",
        "\n",
        "precision, recall, thresholds = precision_recall_curve(Y_test, y_pred_prob)\n",
        "# create plot\n",
        "plt.plot(precision, recall, label='Precision-recall curve')\n",
        "_ = plt.xlabel('Precision')\n",
        "_ = plt.ylabel('Recall')\n",
        "_ = plt.title('Precision-recall curve')\n",
        "_ = plt.legend(loc=\"lower left\")"
      ],
      "execution_count": null,
      "outputs": [
        {
          "output_type": "display_data",
          "data": {
            "image/png": "[encoded data removed]",
            "text/plain": [
              "<Figure size 432x288 with 1 Axes>"
            ]
          },
          "metadata": {
            "tags": [],
            "needs_background": "light"
          }
        }
      ]
    },
    {
      "cell_type": "code",
      "metadata": {
        "id": "YTWWtXyyTyuB",
        "colab_type": "code",
        "colab": {
          "base_uri": "https://localhost:8080/",
          "height": 34
        },
        "outputId": "2e874c87-ec1e-459a-87ea-4a73d19eb26f"
      },
      "source": [
        "from sklearn.metrics import average_precision_score\n",
        "average_precision_score(Y_test, y_pred_prob)"
      ],
      "execution_count": null,
      "outputs": [
        {
          "output_type": "execute_result",
          "data": {
            "text/plain": [
              "0.999209960133103"
            ]
          },
          "metadata": {
            "tags": []
          },
          "execution_count": 50
        }
      ]
    },
    {
      "cell_type": "code",
      "metadata": {
        "id": "SYoK2Dxukwh7",
        "colab_type": "code",
        "colab": {}
      },
      "source": [
        "from sklearn.tree import DecisionTreeClassifier\n",
        "from sklearn.ensemble import RandomForestClassifier\n",
        "from sklearn.svm import SVC\n",
        "from sklearn.naive_bayes import GaussianNB\n",
        "from sklearn.neural_network import MLPClassifier\n",
        "\n",
        "import numpy as np"
      ],
      "execution_count": null,
      "outputs": []
    },
    {
      "cell_type": "code",
      "metadata": {
        "id": "Y0wBf0gyl8Jj",
        "colab_type": "code",
        "colab": {}
      },
      "source": [
        "nb = DecisionTreeClassifier()\n",
        "nb.fit(X_train, Y_train)\n",
        "y_pred = nb.predict(X_test)"
      ],
      "execution_count": null,
      "outputs": []
    },
    {
      "cell_type": "code",
      "metadata": {
        "id": "mwmH1857lBPB",
        "colab_type": "code",
        "colab": {
          "base_uri": "https://localhost:8080/",
          "height": 51
        },
        "outputId": "a0736718-b158-43a3-e7e3-6c56b9e5403e"
      },
      "source": [
        "from sklearn.metrics import confusion_matrix\n",
        "prediction = nb.predict(X_test)\n",
        "print(confusion_matrix(Y_test, Y_pred))"
      ],
      "execution_count": null,
      "outputs": [
        {
          "output_type": "stream",
          "text": [
            "[[ 650    6]\n",
            " [   1 1093]]\n"
          ],
          "name": "stdout"
        }
      ]
    },
    {
      "cell_type": "code",
      "metadata": {
        "id": "_OdiLUpumF35",
        "colab_type": "code",
        "colab": {
          "base_uri": "https://localhost:8080/",
          "height": 34
        },
        "outputId": "3766f39b-2070-47ba-c662-41c36766af4e"
      },
      "source": [
        "from sklearn.metrics import accuracy_score\n",
        "print(accuracy_score(Y_test, y_pred))"
      ],
      "execution_count": null,
      "outputs": [
        {
          "output_type": "stream",
          "text": [
            "0.9977142857142857\n"
          ],
          "name": "stdout"
        }
      ]
    },
    {
      "cell_type": "code",
      "metadata": {
        "id": "j1QwUnQ3mcwn",
        "colab_type": "code",
        "colab": {}
      },
      "source": [
        "from sklearn.model_selection import KFold\n",
        "from sklearn.model_selection import cross_val_score\n",
        "k_fold = KFold(n_splits=10, shuffle=True, random_state=0)"
      ],
      "execution_count": null,
      "outputs": []
    },
    {
      "cell_type": "code",
      "metadata": {
        "id": "VXqeQmUemrwC",
        "colab_type": "code",
        "colab": {
          "base_uri": "https://localhost:8080/",
          "height": 51
        },
        "outputId": "d80c4313-914c-43fd-8d25-1e53501df260"
      },
      "source": [
        "clf = DecisionTreeClassifier()\n",
        "scoring = 'accuracy'\n",
        "score = cross_val_score(clf, train_data_final, target_final, cv=k_fold, n_jobs=1, scoring=scoring)\n",
        "print(score)"
      ],
      "execution_count": null,
      "outputs": [
        {
          "output_type": "stream",
          "text": [
            "[0.99828767 0.9948542  1.         0.99656947 1.         1.\n",
            " 0.99828473 1.         0.9948542  0.9948542 ]\n"
          ],
          "name": "stdout"
        }
      ]
    },
    {
      "cell_type": "code",
      "metadata": {
        "id": "y2Hl_pyWmtu4",
        "colab_type": "code",
        "colab": {
          "base_uri": "https://localhost:8080/",
          "height": 34
        },
        "outputId": "b65baf15-32c3-4670-f0dd-83cb6a8d0f3f"
      },
      "source": [
        "round(np.mean(score)*100, 2)"
      ],
      "execution_count": null,
      "outputs": [
        {
          "output_type": "execute_result",
          "data": {
            "text/plain": [
              "99.78"
            ]
          },
          "metadata": {
            "tags": []
          },
          "execution_count": 57
        }
      ]
    },
    {
      "cell_type": "code",
      "metadata": {
        "id": "_YJlpI9smzJI",
        "colab_type": "code",
        "colab": {}
      },
      "source": [
        "y_pred_prob = nb.predict_proba(X_test)[:,1]"
      ],
      "execution_count": null,
      "outputs": []
    },
    {
      "cell_type": "code",
      "metadata": {
        "id": "40Lr7GpGnDW2",
        "colab_type": "code",
        "colab": {
          "base_uri": "https://localhost:8080/",
          "height": 295
        },
        "outputId": "c8ccaf51-8798-459a-de8d-da30dd9bd0dd"
      },
      "source": [
        "from sklearn.metrics import roc_curve\n",
        "import matplotlib.pyplot as plt\n",
        "%matplotlib inline\n",
        "\n",
        "fpr, tpr, thresholds = roc_curve(Y_test, y_pred_prob)\n",
        "# create plot\n",
        "plt.plot(fpr, tpr, label='ROC curve')\n",
        "plt.plot([0, 1], [0, 1], 'k--', label='Random guess')\n",
        "_ = plt.xlabel('False Positive Rate')\n",
        "_ = plt.ylabel('True Positive Rate')\n",
        "_ = plt.title('ROC Curve')\n",
        "_ = plt.xlim([-0.02, 1])\n",
        "_ = plt.ylim([0, 1.02])\n",
        "_ = plt.legend(loc=\"lower right\")"
      ],
      "execution_count": null,
      "outputs": [
        {
          "output_type": "display_data",
          "data": {
            "image/png": "[encoded data removed]",
            "text/plain": [
              "<Figure size 432x288 with 1 Axes>"
            ]
          },
          "metadata": {
            "tags": [],
            "needs_background": "light"
          }
        }
      ]
    },
    {
      "cell_type": "code",
      "metadata": {
        "id": "nxDcuQnYnFJy",
        "colab_type": "code",
        "colab": {
          "base_uri": "https://localhost:8080/",
          "height": 34
        },
        "outputId": "7a9b8c21-bbd7-4307-e1a2-fc5dfef3b98c"
      },
      "source": [
        "from sklearn.metrics import roc_auc_score\n",
        "\n",
        "roc_auc_score(Y_test, y_pred_prob)"
      ],
      "execution_count": null,
      "outputs": [
        {
          "output_type": "execute_result",
          "data": {
            "text/plain": [
              "0.9975615329736478"
            ]
          },
          "metadata": {
            "tags": []
          },
          "execution_count": 60
        }
      ]
    },
    {
      "cell_type": "code",
      "metadata": {
        "id": "xGf2G2RfnYz8",
        "colab_type": "code",
        "colab": {
          "base_uri": "https://localhost:8080/",
          "height": 295
        },
        "outputId": "5003ed7a-3418-4209-d8ac-8d23d0df02c8"
      },
      "source": [
        "from sklearn.metrics import precision_recall_curve \n",
        "\n",
        "precision, recall, thresholds = precision_recall_curve(Y_test, y_pred_prob)\n",
        "# create plot\n",
        "plt.plot(precision, recall, label='Precision-recall curve')\n",
        "_ = plt.xlabel('Precision')\n",
        "_ = plt.ylabel('Recall')\n",
        "_ = plt.title('Precision-recall curve')\n",
        "_ = plt.legend(loc=\"lower left\")"
      ],
      "execution_count": null,
      "outputs": [
        {
          "output_type": "display_data",
          "data": {
            "image/png": "[encoded data removed]",
            "text/plain": [
              "<Figure size 432x288 with 1 Axes>"
            ]
          },
          "metadata": {
            "tags": [],
            "needs_background": "light"
          }
        }
      ]
    },
    {
      "cell_type": "code",
      "metadata": {
        "id": "uxtehUpNneZM",
        "colab_type": "code",
        "colab": {
          "base_uri": "https://localhost:8080/",
          "height": 34
        },
        "outputId": "3b6b85e1-f371-455b-cdb2-3331df42b354"
      },
      "source": [
        "from sklearn.metrics import average_precision_score\n",
        "average_precision_score(Y_test, y_pred_prob)"
      ],
      "execution_count": null,
      "outputs": [
        {
          "output_type": "execute_result",
          "data": {
            "text/plain": [
              "0.9974898921585151"
            ]
          },
          "metadata": {
            "tags": []
          },
          "execution_count": 62
        }
      ]
    },
    {
      "cell_type": "code",
      "metadata": {
        "id": "pT2gZ-ZQ1fPk",
        "colab_type": "code",
        "colab": {}
      },
      "source": [
        "nb = RandomForestClassifier(n_estimators=13)\n",
        "nb.fit(X_train, Y_train)\n",
        "y_pred = nb.predict(X_test)"
      ],
      "execution_count": null,
      "outputs": []
    },
    {
      "cell_type": "code",
      "metadata": {
        "id": "gipetx_n1n6B",
        "colab_type": "code",
        "colab": {
          "base_uri": "https://localhost:8080/",
          "height": 51
        },
        "outputId": "abc631de-a8ef-4dea-811e-00acd33fab4b"
      },
      "source": [
        "from sklearn.metrics import confusion_matrix\n",
        "prediction = nb.predict(X_test)\n",
        "print(confusion_matrix(Y_test, y_pred))"
      ],
      "execution_count": null,
      "outputs": [
        {
          "output_type": "stream",
          "text": [
            "[[ 651    5]\n",
            " [   1 1093]]\n"
          ],
          "name": "stdout"
        }
      ]
    },
    {
      "cell_type": "code",
      "metadata": {
        "id": "Y3z2UZRA10sl",
        "colab_type": "code",
        "colab": {
          "base_uri": "https://localhost:8080/",
          "height": 170
        },
        "outputId": "437113a1-3f07-4be5-a035-8725a04a0056"
      },
      "source": [
        "from sklearn.metrics import classification_report\n",
        "print(classification_report(Y_test, y_pred))"
      ],
      "execution_count": null,
      "outputs": [
        {
          "output_type": "stream",
          "text": [
            "              precision    recall  f1-score   support\n",
            "\n",
            "         0.0       1.00      0.99      1.00       656\n",
            "         1.0       1.00      1.00      1.00      1094\n",
            "\n",
            "    accuracy                           1.00      1750\n",
            "   macro avg       1.00      1.00      1.00      1750\n",
            "weighted avg       1.00      1.00      1.00      1750\n",
            "\n"
          ],
          "name": "stdout"
        }
      ]
    },
    {
      "cell_type": "code",
      "metadata": {
        "id": "TKRouOK2152y",
        "colab_type": "code",
        "colab": {
          "base_uri": "https://localhost:8080/",
          "height": 34
        },
        "outputId": "efa40dc4-1a94-4780-bf84-6bca93caebf5"
      },
      "source": [
        "from sklearn.metrics import accuracy_score\n",
        "print(accuracy_score(Y_test, y_pred))"
      ],
      "execution_count": null,
      "outputs": [
        {
          "output_type": "stream",
          "text": [
            "0.9965714285714286\n"
          ],
          "name": "stdout"
        }
      ]
    },
    {
      "cell_type": "code",
      "metadata": {
        "id": "ow9Maw8Z2UIz",
        "colab_type": "code",
        "colab": {
          "base_uri": "https://localhost:8080/",
          "height": 51
        },
        "outputId": "2206555f-34c1-4519-9e85-f62e37e167d1"
      },
      "source": [
        "clf = RandomForestClassifier(n_estimators=13)\n",
        "scoring = 'accuracy'\n",
        "score = cross_val_score(clf, train_data_final, target_final, cv=k_fold, n_jobs=1, scoring=scoring)\n",
        "print(score)"
      ],
      "execution_count": null,
      "outputs": [
        {
          "output_type": "stream",
          "text": [
            "[1.         0.99656947 0.99656947 0.9948542  0.99656947 0.99828473\n",
            " 0.99656947 0.9948542  0.99656947 0.99656947]\n"
          ],
          "name": "stdout"
        }
      ]
    },
    {
      "cell_type": "code",
      "metadata": {
        "id": "BUSaiWVP2uko",
        "colab_type": "code",
        "colab": {
          "base_uri": "https://localhost:8080/",
          "height": 34
        },
        "outputId": "3c49ecbf-9410-40ad-f706-e7e1e339a56c"
      },
      "source": [
        "round(np.mean(score)*100, 2)"
      ],
      "execution_count": null,
      "outputs": [
        {
          "output_type": "execute_result",
          "data": {
            "text/plain": [
              "99.67"
            ]
          },
          "metadata": {
            "tags": []
          },
          "execution_count": 68
        }
      ]
    },
    {
      "cell_type": "code",
      "metadata": {
        "id": "LttM0-xr2x41",
        "colab_type": "code",
        "colab": {}
      },
      "source": [
        "nb = SVC(gamma='auto')\n",
        "nb.fit(X_train, Y_train)\n",
        "y_pred = nb.predict(X_test)"
      ],
      "execution_count": null,
      "outputs": []
    },
    {
      "cell_type": "code",
      "metadata": {
        "id": "cTpFiOKr2_id",
        "colab_type": "code",
        "colab": {
          "base_uri": "https://localhost:8080/",
          "height": 51
        },
        "outputId": "80eaa2f8-c0bc-4dd0-b8a7-54f2e81330ca"
      },
      "source": [
        "from sklearn.metrics import confusion_matrix\n",
        "prediction = nb.predict(X_test)\n",
        "print(confusion_matrix(Y_test, y_pred))"
      ],
      "execution_count": null,
      "outputs": [
        {
          "output_type": "stream",
          "text": [
            "[[ 629   27]\n",
            " [   1 1093]]\n"
          ],
          "name": "stdout"
        }
      ]
    },
    {
      "cell_type": "code",
      "metadata": {
        "id": "_HzJr1qv3Ddm",
        "colab_type": "code",
        "colab": {
          "base_uri": "https://localhost:8080/",
          "height": 170
        },
        "outputId": "be8369b3-307e-49df-d61d-3f4d414ba702"
      },
      "source": [
        "from sklearn.metrics import classification_report\n",
        "print(classification_report(Y_test, y_pred))"
      ],
      "execution_count": null,
      "outputs": [
        {
          "output_type": "stream",
          "text": [
            "              precision    recall  f1-score   support\n",
            "\n",
            "         0.0       1.00      0.96      0.98       656\n",
            "         1.0       0.98      1.00      0.99      1094\n",
            "\n",
            "    accuracy                           0.98      1750\n",
            "   macro avg       0.99      0.98      0.98      1750\n",
            "weighted avg       0.98      0.98      0.98      1750\n",
            "\n"
          ],
          "name": "stdout"
        }
      ]
    },
    {
      "cell_type": "code",
      "metadata": {
        "id": "rlG0-EdG3Gdw",
        "colab_type": "code",
        "colab": {
          "base_uri": "https://localhost:8080/",
          "height": 34
        },
        "outputId": "b9fb1797-8b7c-4f3b-aaa2-75ef4fa77a8d"
      },
      "source": [
        "from sklearn.metrics import accuracy_score\n",
        "print(accuracy_score(Y_test, y_pred))"
      ],
      "execution_count": null,
      "outputs": [
        {
          "output_type": "stream",
          "text": [
            "0.984\n"
          ],
          "name": "stdout"
        }
      ]
    }
  ]
}